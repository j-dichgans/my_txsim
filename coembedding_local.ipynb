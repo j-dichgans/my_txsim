{
 "cells": [
  {
   "cell_type": "code",
   "execution_count": null,
   "metadata": {},
   "outputs": [],
   "source": [
    "import numpy as np\n",
    "import networkx as nx\n",
    "import pandas as pd\n",
    "import anndata as ad\n",
    "from anndata import AnnData\n",
    "import scanpy as sc\n"
   ]
  },
  {
   "cell_type": "code",
   "execution_count": null,
   "metadata": {},
   "outputs": [],
   "source": [
    "adata_exp0 = ad.read_h5ad('C:/Users/mdichgan/Documents/Helmholtz/send_to_Jakob/spatial/counts_CPc_exp0_BA28.h5ad')"
   ]
  },
  {
   "cell_type": "code",
   "execution_count": null,
   "metadata": {},
   "outputs": [],
   "source": [
    "adata_Yao = ad.read_h5ad(\n",
    "    'C:/Users/mdichgan/Documents/Helmholtz/send_to_Jakob/sc/Yao_150kcells_subsample_with_annotations_sparse_subset.h5ad')"
   ]
  },
  {
   "cell_type": "code",
   "execution_count": 76,
   "metadata": {},
   "outputs": [],
   "source": [
    "adata_Yao.obs[\"celltype\"] = adata_Yao.obs[\"label\"]"
   ]
  },
  {
   "cell_type": "code",
   "execution_count": null,
   "metadata": {},
   "outputs": [],
   "source": [
    "sc.pp.normalize_total(adata_exp0)\n",
    "sc.pp.normalize_total(adata_Yao)\n",
    "# sc.pp.log1p(adata_exp0)\n",
    "# sc.pp.log1p(adata_Yao)\n",
    "adata_exp0.layers[\"lognorm\"] = adata_exp0.X\n",
    "adata_Yao.layers[\"lognorm\"] = adata_Yao.X"
   ]
  },
  {
   "cell_type": "code",
   "execution_count": null,
   "metadata": {},
   "outputs": [],
   "source": [
    "def get_modality_ratio_score(adata_st: AnnData, adata_sc: AnnData, obs_key: str = \"celltype\", k: int = 45,ct_filter_factor: float = 2):\n",
    "    adata_st.obs[\"modality\"] = \"spatial\"\n",
    "    adata_sc.obs[\"modality\"] = \"sc\"\n",
    "    adata = ad.concat([adata_st, adata_sc], join='inner')  \n",
    "\n",
    "    # Set counts to log norm data\n",
    "    adata.X = adata.layers[\"lognorm\"]\n",
    "    \n",
    "    # Calculate PCA (Note: we could also think about pca per cell type...)\n",
    "    assert (adata.obsm is None) or ('X_pca' not in adata.obsm), \"PCA already exists.\"\n",
    "    sc.tl.pca(adata)\n",
    "    \n",
    "    # get cell type groups\n",
    "    sc_cts = set(adata_sc.obs[\"celltype\"].cat.categories)\n",
    "    st_cts = set(adata_st.obs[\"celltype\"].cat.categories)\n",
    "    shared_cts = list(sc_cts.intersection(st_cts))         \n",
    "\n",
    "    # Get ratio per shared cell type\n",
    "    df = pd.DataFrame(columns=[\"cell_id\",\"celltype\",\"ratio\",\"exp_val\",\"score\"])\n",
    "    for ct in shared_cts:\n",
    "        enough_cells = (adata.obs.loc[adata.obs[obs_key]==ct,\"modality\"].value_counts() > (ct_filter_factor * k)).all()     #nochmal: wieso ct_fil?\n",
    "        if enough_cells:\n",
    "            a = adata[adata.obs[obs_key]==ct]\n",
    "            exp_val = (a.obs.loc[a.obs[\"modality\"]==\"sc\"].shape[0])/a.obs.shape[0]\n",
    "            sc.pp.neighbors(a,n_neighbors=k)\n",
    "            G = nx.Graph(incoming_graph_data=a.obsp[\"connectivities\"])\n",
    "            nx.set_node_attributes(G, {i:a.obs[\"modality\"].values[i] for i in range(G.number_of_nodes())}, \"modality\")   \n",
    "\n",
    "            ct_df = np.zeros(a.obs.shape[0])\n",
    "            f = np.vectorize(lambda x: x/exp_val if x>0 and x<=exp_val else x/(exp_val-1)+1/(1-exp_val))\n",
    "            i = 0\n",
    "            for cell in G.nodes():\n",
    "                ct_df[i] = sum(1 for neighbor in G.neighbors(cell) if G.nodes[cell][\"modality\"]==\"sc\")  #number_modality_sc\n",
    "                ct_df[i] = ct_df[i]/G.degree(cell)  \n",
    "                i += 1\n",
    "                  #ratio: number modality sc / total cells\n",
    "                # if total_cells != 0:              #0 nicht möglich? immer k?\n",
    "                #     ratio = number_modality_sc / total_cells\n",
    "                # else:\n",
    "                #     ratio = 0        #no neighbors\n",
    "                #df.append({\"cell_id\": \"cell_id\", \"celltype\": ct, \"ratio\": ratio, \"exp_val\":exp_val, \"score\": score})  #wie machen mit cell_id? ineffizient\n",
    "                #df aus liste an listen\n",
    "            daf = pd.DataFrame({\"cell_id\": a.obs[\"cell_id\"], \"celltype\": ct, \"ratio\":ct_df, \"exp_val\":exp_val, \"score\":f(ct_df)})\n",
    "    \n",
    "    df = pd.concat([df,daf])\n",
    "    return df\n"
   ]
  },
  {
   "cell_type": "code",
   "execution_count": null,
   "metadata": {},
   "outputs": [],
   "source": [
    "adata_Yao.obs = adata_Yao.obs.reset_index().rename(columns={'index':'cell_id'})\n",
    "adata_Yao.obs"
   ]
  },
  {
   "cell_type": "code",
   "execution_count": 79,
   "metadata": {},
   "outputs": [
    {
     "data": {
      "text/plain": [
       "0        L2/3 IT RSP\n",
       "1         Lamp5 Lhx6\n",
       "2        L2/3 IT CTX\n",
       "3                Vip\n",
       "4        L5/6 IT CTX\n",
       "            ...     \n",
       "24504            Vip\n",
       "24505          Oligo\n",
       "24506      L6 CT CTX\n",
       "24507        L6b CTX\n",
       "24508          Pvalb\n",
       "Name: celltype, Length: 24509, dtype: category\n",
       "Categories (57, object): ['Astro', 'CA1', 'CA1-ProS', 'CA2-IG-FC', ..., 'Sst', 'Sst Chodl', 'VLMC', 'Vip']"
      ]
     },
     "execution_count": 79,
     "metadata": {},
     "output_type": "execute_result"
    }
   ],
   "source": [
    "adata_Yao.obs[\"celltype\"]"
   ]
  },
  {
   "cell_type": "code",
   "execution_count": 74,
   "metadata": {},
   "outputs": [
    {
     "data": {
      "text/html": [
       "<div>\n",
       "<style scoped>\n",
       "    .dataframe tbody tr th:only-of-type {\n",
       "        vertical-align: middle;\n",
       "    }\n",
       "\n",
       "    .dataframe tbody tr th {\n",
       "        vertical-align: top;\n",
       "    }\n",
       "\n",
       "    .dataframe thead th {\n",
       "        text-align: right;\n",
       "    }\n",
       "</style>\n",
       "<table border=\"1\" class=\"dataframe\">\n",
       "  <thead>\n",
       "    <tr style=\"text-align: right;\">\n",
       "      <th></th>\n",
       "      <th>cell_id</th>\n",
       "      <th>ct_majority</th>\n",
       "      <th>ct_majority_cert</th>\n",
       "      <th>celltype</th>\n",
       "      <th>n_counts</th>\n",
       "      <th>n_genes</th>\n",
       "      <th>area</th>\n",
       "      <th>modality</th>\n",
       "    </tr>\n",
       "  </thead>\n",
       "  <tbody>\n",
       "    <tr>\n",
       "      <th>Cell_3451</th>\n",
       "      <td>1</td>\n",
       "      <td>Cck INH</td>\n",
       "      <td>1.0</td>\n",
       "      <td>Cck INH</td>\n",
       "      <td>102.0</td>\n",
       "      <td>33</td>\n",
       "      <td>1253.0</td>\n",
       "      <td>spatial</td>\n",
       "    </tr>\n",
       "  </tbody>\n",
       "</table>\n",
       "</div>"
      ],
      "text/plain": [
       "           cell_id ct_majority  ct_majority_cert celltype  n_counts  n_genes  \\\n",
       "Cell_3451        1     Cck INH               1.0  Cck INH     102.0       33   \n",
       "\n",
       "             area modality  \n",
       "Cell_3451  1253.0  spatial  "
      ]
     },
     "execution_count": 74,
     "metadata": {},
     "output_type": "execute_result"
    }
   ],
   "source": [
    "adata_exp0.obs.loc[adata_exp0.obs[\"cell_id\"]==1]"
   ]
  },
  {
   "cell_type": "code",
   "execution_count": null,
   "metadata": {},
   "outputs": [],
   "source": [
    "#test get_modality_ratio_score\n",
    "get_modality_ratio_score(adata_exp0, adata_Yao)       "
   ]
  }
 ],
 "metadata": {
  "kernelspec": {
   "display_name": "txsim",
   "language": "python",
   "name": "python3"
  },
  "language_info": {
   "codemirror_mode": {
    "name": "ipython",
    "version": 3
   },
   "file_extension": ".py",
   "mimetype": "text/x-python",
   "name": "python",
   "nbconvert_exporter": "python",
   "pygments_lexer": "ipython3",
   "version": "3.9.16"
  },
  "orig_nbformat": 4,
  "vscode": {
   "interpreter": {
    "hash": "0177e28d6b1befb957bf45cd3059bda73a45ca5987be779c0bf4fe7c5743d6a8"
   }
  }
 },
 "nbformat": 4,
 "nbformat_minor": 2
}
