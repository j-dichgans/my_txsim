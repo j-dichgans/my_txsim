{
 "cells": [
  {
   "cell_type": "code",
   "execution_count": 3,
   "metadata": {},
   "outputs": [],
   "source": [
    "import numpy as np\n",
    "import networkx as nx\n",
    "import pandas as pd\n",
    "import anndata as ad\n",
    "from anndata import AnnData\n",
    "import scanpy as sc\n"
   ]
  },
  {
   "cell_type": "code",
   "execution_count": 4,
   "metadata": {},
   "outputs": [],
   "source": [
    "adata_exp0 = ad.read_h5ad('C:/Users/mdichgan/Documents/Helmholtz/send_to_Jakob/spatial/counts_CPc_exp0_BA28.h5ad')"
   ]
  },
  {
   "cell_type": "code",
   "execution_count": 16,
   "metadata": {},
   "outputs": [],
   "source": [
    "sc.pp.normalize_total(adata_exp0)\n",
    "# sc.pp.log1p(adata_exp0)\n",
    "adata_exp0.layers[\"lognorm\"] = adata_exp0.X"
   ]
  },
  {
   "cell_type": "code",
   "execution_count": 5,
   "metadata": {},
   "outputs": [],
   "source": [
    "adata_Yao = ad.read_h5ad(\n",
    "    'C:/Users/mdichgan/Documents/Helmholtz/send_to_Jakob/sc/Yao_150kcells_subsample_with_annotations_sparse_subset.h5ad')"
   ]
  },
  {
   "cell_type": "code",
   "execution_count": 14,
   "metadata": {},
   "outputs": [],
   "source": [
    "def get_modality_ratio_score(adata_st: AnnData, adata_sc: AnnData, obs_key: str = \"celltype\", k: int = 45):\n",
    "    adata_st.obs[\"modality\"] = \"spatial\"\n",
    "    adata_sc.obs[\"modality\"] = \"sc\"\n",
    "    adata = ad.concat([adata_st, adata_sc], join='inner')  #wieso inner join?\n",
    "\n",
    "    # Set counts to log norm data\n",
    "    adata.X = adata.layers[\"lognorm\"]\n",
    "    \n",
    "    # Calculate PCA (Note: we could also think about pca per cell type...)\n",
    "    assert (adata.obsm is None) or ('X_pca' not in adata.obsm), \"PCA already exists.\"\n",
    "    sc.tl.pca(adata)\n",
    "    \n",
    "    # get cell type groups\n",
    "    sc_cts = set(adata_sc.obs[\"celltype\"].cat.categories)\n",
    "    st_cts = set(adata_st.obs[\"celltype\"].cat.categories)\n",
    "    all_cts = list(sc_cts.union(st_cts))\n",
    "    shared_cts = list(sc_cts.intersection(st_cts))          #welche celltypes verwenden, wieso diese?\n",
    "\n",
    "    # Get ratio per shared cell type\n",
    "    df = pd.DataFrame(columns=[\"celltype\",\"cell_id\",\"ratio\",\"exp_val\",\"score\"])\n",
    "    for ct in shared_cts:\n",
    "        # enough_cells = (adata.obs.loc[adata.obs[obs_key]==ct,\"modality\"].value_counts() > (ct_filter_factor * k)).all()     #weglassen?\n",
    "        a = adata[adata.obs[obs_key]==ct]\n",
    "        exp_val = (a.obs.loc[a.obs[\"modality\"]==\"sc\"].shape[0])/a.obs.shape[0]\n",
    "        sc.pp.neighbors(a,n_neighbors=k)\n",
    "        G = nx.Graph(incoming_graph_data=a.obsp[\"connectivities\"])\n",
    "        nx.set_node_attributes(G, {i:a.obs[\"modality\"].values[i] for i in range(G.number_of_nodes())}, \"modality\")    #wie Knoten nummer?\n",
    "        # scores[ct] = np.clip(-nx.attribute_assortativity_coefficient(G, \"modality\") + 1, 0, 1)\n",
    "        for cell in G.nodes():\n",
    "            number_modality_sc = sum(1 for neighbor in G.neighbors(cell) if G.nodes[\"cell\"][\"modality\"]==\"sc\")\n",
    "            total_cells = G.degree(cell)\n",
    "            f = lambda x: 0 if x<= 0 or x>=1 else (x/exp_val if x>0 and x<=exp_val else x/(exp_val-1)+1/(1-exp_val))\n",
    "            ratio = number_modality_sc/total_cells\n",
    "            score = f(ratio)\n",
    "            # if total_cells != 0:              #0 nicht möglich? immer k?\n",
    "            #     ratio = number_modality_sc / total_cells\n",
    "            # else:\n",
    "            #     ratio = 0        #no neighbors\n",
    "            df.append({\"cell_id\": \"cell_id\", \"celltype\": ct, \"ratio\": ratio, \"exp_val\":exp_val, \"score\": score})  #wie machen mit cell_id? ineffizient\n",
    "\n",
    "    return df\n"
   ]
  },
  {
   "cell_type": "code",
   "execution_count": 17,
   "metadata": {},
   "outputs": [
    {
     "ename": "KeyError",
     "evalue": "'lognorm'",
     "output_type": "error",
     "traceback": [
      "\u001b[1;31m---------------------------------------------------------------------------\u001b[0m",
      "\u001b[1;31mKeyError\u001b[0m                                  Traceback (most recent call last)",
      "Cell \u001b[1;32mIn[17], line 2\u001b[0m\n\u001b[0;32m      1\u001b[0m \u001b[39m#test get_modality_ratio_score\u001b[39;00m\n\u001b[1;32m----> 2\u001b[0m get_modality_ratio_score(adata_exp0, adata_Yao)\n",
      "Cell \u001b[1;32mIn[14], line 7\u001b[0m, in \u001b[0;36mget_modality_ratio_score\u001b[1;34m(adata_st, adata_sc, obs_key, k)\u001b[0m\n\u001b[0;32m      4\u001b[0m adata \u001b[39m=\u001b[39m ad\u001b[39m.\u001b[39mconcat([adata_st, adata_sc], join\u001b[39m=\u001b[39m\u001b[39m'\u001b[39m\u001b[39minner\u001b[39m\u001b[39m'\u001b[39m)  \u001b[39m#wieso inner join?\u001b[39;00m\n\u001b[0;32m      6\u001b[0m \u001b[39m# Set counts to log norm data\u001b[39;00m\n\u001b[1;32m----> 7\u001b[0m adata\u001b[39m.\u001b[39mX \u001b[39m=\u001b[39m adata\u001b[39m.\u001b[39;49mlayers[\u001b[39m\"\u001b[39;49m\u001b[39mlognorm\u001b[39;49m\u001b[39m\"\u001b[39;49m]\n\u001b[0;32m      9\u001b[0m \u001b[39m# Calculate PCA (Note: we could also think about pca per cell type...)\u001b[39;00m\n\u001b[0;32m     10\u001b[0m \u001b[39massert\u001b[39;00m (adata\u001b[39m.\u001b[39mobsm \u001b[39mis\u001b[39;00m \u001b[39mNone\u001b[39;00m) \u001b[39mor\u001b[39;00m (\u001b[39m'\u001b[39m\u001b[39mX_pca\u001b[39m\u001b[39m'\u001b[39m \u001b[39mnot\u001b[39;00m \u001b[39min\u001b[39;00m adata\u001b[39m.\u001b[39mobsm), \u001b[39m\"\u001b[39m\u001b[39mPCA already exists.\u001b[39m\u001b[39m\"\u001b[39m\n",
      "File \u001b[1;32mc:\\Users\\mdichgan\\AppData\\Local\\miniconda3\\envs\\txsim\\lib\\site-packages\\anndata\\_core\\aligned_mapping.py:148\u001b[0m, in \u001b[0;36mAlignedActualMixin.__getitem__\u001b[1;34m(self, key)\u001b[0m\n\u001b[0;32m    147\u001b[0m \u001b[39mdef\u001b[39;00m \u001b[39m__getitem__\u001b[39m(\u001b[39mself\u001b[39m, key: \u001b[39mstr\u001b[39m) \u001b[39m-\u001b[39m\u001b[39m>\u001b[39m V:\n\u001b[1;32m--> 148\u001b[0m     \u001b[39mreturn\u001b[39;00m \u001b[39mself\u001b[39;49m\u001b[39m.\u001b[39;49m_data[key]\n",
      "\u001b[1;31mKeyError\u001b[0m: 'lognorm'"
     ]
    }
   ],
   "source": [
    "#test get_modality_ratio_score\n",
    "get_modality_ratio_score(adata_exp0, adata_Yao)       #key error: lognorm"
   ]
  }
 ],
 "metadata": {
  "kernelspec": {
   "display_name": "txsim",
   "language": "python",
   "name": "python3"
  },
  "language_info": {
   "codemirror_mode": {
    "name": "ipython",
    "version": 3
   },
   "file_extension": ".py",
   "mimetype": "text/x-python",
   "name": "python",
   "nbconvert_exporter": "python",
   "pygments_lexer": "ipython3",
   "version": "3.9.16"
  },
  "orig_nbformat": 4,
  "vscode": {
   "interpreter": {
    "hash": "0177e28d6b1befb957bf45cd3059bda73a45ca5987be779c0bf4fe7c5743d6a8"
   }
  }
 },
 "nbformat": 4,
 "nbformat_minor": 2
}
