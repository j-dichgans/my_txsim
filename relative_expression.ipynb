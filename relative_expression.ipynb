{
 "cells": [
  {
   "cell_type": "code",
   "execution_count": 1,
   "metadata": {},
   "outputs": [],
   "source": [
    "import scanpy as sc\n",
    "import numpy as np\n",
    "import pandas as pd\n",
    "from anndata import AnnData\n",
    "from scipy.sparse import issparse\n",
    "import anndata as ad"
   ]
  },
  {
   "cell_type": "code",
   "execution_count": 13,
   "metadata": {},
   "outputs": [],
   "source": [
    "adata_exp0 = ad.read_h5ad('C:/Users/mdichgan/Documents/Helmholtz/send_to_Jakob/spatial/counts_CPc_exp0_BA28.h5ad')\n",
    "adata_Yao = ad.read_h5ad(\n",
    "    'C:/Users/mdichgan/Documents/Helmholtz/send_to_Jakob/sc/Yao_150kcells_subsample_with_annotations_sparse_subset.h5ad')"
   ]
  },
  {
   "cell_type": "code",
   "execution_count": 6,
   "metadata": {},
   "outputs": [],
   "source": [
    "adata_Yao.obs[\"celltype\"] = adata_Yao.obs[\"label\"]\n",
    "adata_exp0.layers[\"raw\"] = adata_exp0.X\n",
    "adata_Yao.layers[\"raw\"] = adata_Yao.X\n",
    "\n",
    "# sc.pp.normalize_total(adata_exp0)\n",
    "# sc.pp.normalize_total(adata_Yao)\n",
    "adata_exp0.layers[\"lognorm\"] = adata_exp0.X\n",
    "adata_Yao.layers[\"lognorm\"] = adata_Yao.X"
   ]
  },
  {
   "cell_type": "code",
   "execution_count": null,
   "metadata": {},
   "outputs": [],
   "source": [
    "def relative_pairwise_celltype_expression(adata_sp: AnnData, adata_sc: AnnData, key:str='celltype', layer:str='lognorm',  pipeline_output: bool=True):\n",
    "    \"\"\"Calculate the efficiency deviation present between the genes in the panel. \n",
    "    ----------\n",
    "    adata_sp : AnnData\n",
    "        annotated ``AnnData`` object with counts from spatial data\n",
    "    adata_sc : AnnData\n",
    "        annotated ``AnnData`` object with counts from scRNAseq data\n",
    "    key: str (default: 'celltype')\n",
    "        .obs column of ``AnnData`` that contains celltype information\n",
    "    layer: str (default: 'lognorm')\n",
    "        layer of ```AnnData`` to use to compute the metric\n",
    "    pipeline_output: bool (default: True)\n",
    "        whether to return only the overall metric (if False, will return the overall metric, per-gene metric and per-celltype metric) \n",
    "\n",
    "    Returns\n",
    "    -------\n",
    "    overall_metric: float\n",
    "        similarity of relative gene expression across all genes and celltypes, b/t the scRNAseq and spatial data\n",
    "    per_gene_metric: float\n",
    "        similarity of relative gene expression per gene across all celltypes, b/t the scRNAseq and spatial data\n",
    "    per_celltype_metric: float\n",
    "        similarity of relative gene expression per celltype across all genes, b/t the scRNAseq and spatial data\n",
    "  \n",
    "    \"\"\"   \n",
    "    ### SET UP\n",
    "    # set the .X layer of each of the adatas to be log-normalized counts\n",
    "    adata_sp.X = adata_sp.layers[layer]\n",
    "    adata_sc.X = adata_sc.layers[layer]\n",
    "    \n",
    "    # take the intersection of genes in adata_sp and adata_sc, as a list\n",
    "    intersect = list(set(adata_sp.var_names).intersection(set(adata_sc.var_names)))\n",
    "    \n",
    "    # subset adata_sc and adata_sp to only include genes in the intersection of adata_sp and adata_sc \n",
    "    adata_sc=adata_sc[:,intersect]\n",
    "    adata_sp=adata_sp[:,intersect]\n",
    "    \n",
    "    # sparse matrix support\n",
    "    for a in [adata_sc, adata_sp]:\n",
    "        if issparse(a.X):\n",
    "            a.X = a.X.toarray()\n",
    "            \n",
    "    # find the unique celltypes in adata_sc that are also in adata_sp\n",
    "    unique_celltypes=adata_sc.obs.loc[adata_sc.obs[key].isin(adata_sp.obs[key]),key].unique()\n",
    "    \n",
    "    \n",
    "    #### FIND MEAN GENE EXPRESSION PER CELL TYPE FOR EACH MODALITY\n",
    "    # get the adata_sc cell x gene matrix as a pandas dataframe (w gene names as column names)\n",
    "    exp_sc=pd.DataFrame(adata_sc.X,columns=adata_sc.var.index)        #ValueError: Shape of passed values is (24509, 1), indices imply (24509, 283)\n",
    "    \n",
    "    # get the adata_sp cell x gene matrix as a pandas dataframe (w gene names as column names)\n",
    "    exp_sp=pd.DataFrame(adata_sp.X,columns=adata_sp.var.index)\n",
    "    \n",
    "    # add \"celltype\" label column to exp_sc & exp_sp cell x gene matrices \n",
    "    exp_sc[key]=list(adata_sc.obs[key])\n",
    "    exp_sp[key]=list(adata_sp.obs[key])\n",
    "    \n",
    "    # delete all cells from the exp matrices if they aren't in the set of intersecting celltypes b/t sc & sp data\n",
    "    exp_sc=exp_sc.loc[exp_sc[key].isin(unique_celltypes),:]\n",
    "    exp_sp=exp_sp.loc[exp_sp[key].isin(unique_celltypes),:]\n",
    "    \n",
    "    # find the mean expression for each gene for each celltype in sc and sp data\n",
    "    mean_celltype_sp=exp_sp.groupby(key).mean()\n",
    "    mean_celltype_sc=exp_sc.groupby(key).mean()\n",
    "    \n",
    "    # sort genes in alphabetical order \n",
    "    mean_celltype_sc=mean_celltype_sc.loc[:,mean_celltype_sc.columns.sort_values()]\n",
    "    mean_celltype_sp=mean_celltype_sp.loc[:,mean_celltype_sp.columns.sort_values()]\n",
    "    \n",
    "    \n",
    "    #### CALCULATE PAIRWISE RELATIVE DISTANCES BETWEEN CELL TYPES\n",
    "    mean_celltype_sc_np = mean_celltype_sc.T.to_numpy()             \n",
    "    pairwise_distances_sc = mean_celltype_sc_np[:,:,np.newaxis] - mean_celltype_sc_np[:,np.newaxis,:]\n",
    "    pairwise_distances_sc = pairwise_distances_sc.transpose((1,2,0)) #results in np.array of dimensions (num_celltypes, num_celltypes, num_genes) \n",
    "       \n",
    "    mean_celltype_sp_np = mean_celltype_sp.T.to_numpy()\n",
    "    pairwise_distances_sp = mean_celltype_sp_np[:,:,np.newaxis] - mean_celltype_sp_np[:,np.newaxis,:]\n",
    "    pairwise_distances_sp = pairwise_distances_sp.transpose((1,2,0)) #results in np.array of dimensions (num_celltypes,num_celltypes, num_genes) \n",
    "    \n",
    "    #### NORMALIZE THESE PAIRWISE DISTANCES BETWEEN CELL TYPES\n",
    "    #calculate sum of absolute distances\n",
    "    abs_diff_sc = np.absolute(pairwise_distances_sc)\n",
    "    abs_diff_sum_sc = np.sum(abs_diff_sc, axis=(0,1))\n",
    "    \n",
    "    abs_diff_sp = np.absolute(pairwise_distances_sp)\n",
    "    abs_diff_sum_sp = np.sum(abs_diff_sp, axis=(0,1))\n",
    "    \n",
    "    norm_factor_sc = (1/(mean_celltype_sc.T.shape[1]**2)) * abs_diff_sum_sc\n",
    "    norm_factor_sp = (1/(mean_celltype_sp.T.shape[1]**2)) * abs_diff_sum_sp\n",
    "    \n",
    "    \n",
    "    #perform normalization\n",
    "    norm_pairwise_distances_sc = np.divide(pairwise_distances_sc, norm_factor_sc)\n",
    "    norm_pairwise_distances_sp = np.divide(pairwise_distances_sp, norm_factor_sp)\n",
    "    \n",
    "    \n",
    "    pairwise_distances_sc[:,:,norm_factor_sc!=0] = np.divide(pairwise_distances_sc[:,:,norm_factor_sc!=0], \n",
    "                                                             norm_factor_sc[norm_factor_sc!=0])\n",
    "    # exclude the ones with norm_factor_sc, norm_factor_sp with zero\n",
    "    pairwise_distances_sp[:,:,norm_factor_sp!=0] = np.divide(pairwise_distances_sp[:,:,norm_factor_sp!=0], \n",
    "                                                             norm_factor_sp[norm_factor_sp!=0])\n",
    "    norm_pairwise_distances_sc = pairwise_distances_sc\n",
    "    norm_pairwise_distances_sp = pairwise_distances_sp\n",
    "    \n",
    "    \n",
    "    ##### CALCULATE OVERALL SCORE,PER-GENE SCORES, PER-CELLTYPE SCORES\n",
    "    overall_score = np.sum(np.absolute(norm_pairwise_distances_sp - norm_pairwise_distances_sc), axis=None)\n",
    "    overall_metric = 1 - (overall_score/(2 * np.sum(np.absolute(norm_pairwise_distances_sc), axis=None)))\n",
    "    \n",
    "    per_gene_score = np.sum(np.absolute(norm_pairwise_distances_sp - norm_pairwise_distances_sc), axis=(0,1))\n",
    "    per_gene_metric = 1 - (per_gene_score/(2 * np.sum(np.absolute(norm_pairwise_distances_sc), axis=(0,1))))\n",
    "    per_gene_metric = pd.DataFrame(per_gene_metric, index=mean_celltype_sc.columns, columns=['score']) #add back the gene labels \n",
    "\n",
    "\n",
    "    #per_gene_metric = pd.DataFrame(per_gene_metric, index=mean_celltype_sc.T.columns, columns=['score']) #add back the gene labels \n",
    "    \n",
    "    per_celltype_score = np.sum(np.absolute(norm_pairwise_distances_sp - norm_pairwise_distances_sc), axis=(1,2))\n",
    "    per_celltype_metric = 1 - (per_celltype_score/(2 * np.sum(np.absolute(norm_pairwise_distances_sc), axis=(1,2))))\n",
    "    per_celltype_metric = pd.DataFrame(per_celltype_metric, index=mean_celltype_sc.index, columns=['score']) #add back the celltype labels \n",
    "    \n",
    "    if pipeline_output:\n",
    "        return overall_metric\n",
    "    \n",
    "    return overall_metric, per_gene_metric, per_celltype_metric\n"
   ]
  },
  {
   "cell_type": "code",
   "execution_count": null,
   "metadata": {},
   "outputs": [],
   "source": [
    "relative_pairwise_celltype_expression(adata_exp0, adata_Yao)"
   ]
  },
  {
   "cell_type": "code",
   "execution_count": 2,
   "metadata": {},
   "outputs": [],
   "source": [
    "def relative_pairwise_celltype_expression_local(adata_sp: AnnData, adata_sc: AnnData, bins_x: list[float], bins_y: list[float], key:str='celltype', layer:str='lognorm'):\n",
    "    \n",
    "    \n",
    "    min_number_cells = 10 \n",
    "    n_bins_x = len(bins_x) - 1\n",
    "    n_bins_y = len(bins_y) - 1\n",
    "    \n",
    "    ### SET UP\n",
    "    # set the .X layer of each of the adatas to be log-normalized counts\n",
    "    adata_sp.X = adata_sp.layers[layer]\n",
    "    adata_sc.X = adata_sc.layers[layer]\n",
    "    \n",
    "    # take the intersection of genes in adata_sp and adata_sc, as a list\n",
    "    intersect_genes = list(set(adata_sp.var_names).intersection(set(adata_sc.var_names)))\n",
    "    \n",
    "    # subset adata_sc and adata_sp to only include genes in the intersection of adata_sp and adata_sc \n",
    "    adata_sc=adata_sc[:,intersect_genes]\n",
    "    adata_sp=adata_sp[:,intersect_genes]\n",
    "    \n",
    "    # sparse matrix support\n",
    "    for a in [adata_sc, adata_sp]:\n",
    "        if issparse(a.X):\n",
    "            a.X = a.X.toarray()\n",
    "            \n",
    "    # find the unique celltypes in adata_sc that are also in adata_sp\n",
    "    interesect_celltypes = list(set(adata_sp.obs[\"celltype\"]).intersection(set(adata_sc.obs[\"celltype\"])))\n",
    "\n",
    "    #### FIND MEAN GENE EXPRESSION PER CELL TYPE FOR EACH MODALITY\n",
    "    # get the adata_sc cell x gene matrix as a pandas dataframe (w gene names as column names)\n",
    "    exp_sc=pd.DataFrame(adata_sc.X,columns=adata_sc.var.index)        #ValueError: Shape of passed values is (24509, 1), indices imply (24509, 283)\n",
    "    \n",
    "    # get the adata_sp cell x gene matrix as a pandas dataframe (w gene names as column names)\n",
    "    exp_sp=pd.DataFrame(adata_sp.X,columns=adata_sp.var.index)\n",
    "    \n",
    "    # add \"celltype\" label column to exp_sc & exp_sp cell x gene matrices \n",
    "    exp_sc[key]=list(adata_sc.obs[key])\n",
    "    exp_sp[key]=list(adata_sp.obs[key])\n",
    "    \n",
    "    # delete all cells from the exp matrices if they aren't in the set of intersecting celltypes b/t sc & sp data\n",
    "    exp_sc=exp_sc.loc[exp_sc[key].isin(interesect_celltypes),:]\n",
    "    exp_sp=exp_sp.loc[exp_sp[key].isin(interesect_celltypes),:]\n",
    "\n",
    "    #unnötig?:\n",
    "    exp_sc=exp_sc[:,exp_sc.columns.sort_values()]\n",
    "    exp_sp=exp_sp[:,exp_sp.columns.sort_values()]\n",
    "\n",
    "    sum_sc = sum(exp_sc)\n",
    "    mean_celltype_sc_normalized=exp_sc.groupby(key).mean()/sum_sc\n",
    "\n",
    "    mean_celltype_sc_normalized = mean_celltype_sc_normalized.T.to_numpy()\n",
    "    pairwise_diff_sc = mean_celltype_sc_normalized[:,:,np.newaxis] - mean_celltype_sc_normalized[:,np.newaxis,:]\n",
    "\n",
    "    gridfield_metric = np.zeros((n_bins_x,n_bins_y))\n",
    "    i, j = 0, 0\n",
    "        \n",
    "    for x_start, x_end in zip(bins_x[:-1], bins_x[1:]):\n",
    "        for y_start, y_end in zip(bins_y[:-1], bins_y[1:]):    \n",
    "            #hat adata_sp.obs immer x, y Koord? Sonst mit get_cells_location Funktion\n",
    "            df = adata_sp.obs[[\"x\", \"y\"]]\n",
    "            df = df[\n",
    "            (df[\"x\"] >= x_start)\n",
    "            & (df[\"x\"] < x_end)\n",
    "            & (df[\"y\"] >= y_start)\n",
    "            & (df[\"y\"] < y_end)\n",
    "        ]\n",
    "\n",
    "        sp_local = exp_sp.loc[df.index,:]\n",
    "        sum_sp_local = sum(sp_local)\n",
    "\n",
    "        if any(sp_local[key].value_counts() < min_number_cells):\n",
    "            gridfield_metric[n_bins_y-1-i,j] \n",
    "            i += 1\n",
    "            break        \n",
    "            \n",
    "        # find the mean expression for each gene for each celltype in sc and sp data\n",
    "        mean_celltype_sp_normalized=sp_local.groupby(key).mean()/sum_sp_local\n",
    "        mean_celltype_sp_normalized=mean_celltype_sp_normalized.T.to_numpy()\n",
    "        pairwise_diff_sp = mean_celltype_sp_normalized[:,:,np.newaxis] - mean_celltype_sp_normalized[:,np.newaxis,:]\n",
    "\n",
    "        delta = np.sum(np.abs(pairwise_diff_sp-pairwise_diff_sc))\n",
    "        gridfield_metric[n_bins_y-1-i,j]  = 1-delta/(2*np.sum(np.abs(pairwise_diff_sc)))\n",
    "        i+=1\n",
    "    j+=1 \n",
    "\n",
    "    return gridfield_metric\n",
    "    \n",
    " "
   ]
  },
  {
   "cell_type": "code",
   "execution_count": 2,
   "metadata": {},
   "outputs": [
    {
     "data": {
      "text/plain": [
       "array([[[ 0, -1],\n",
       "        [ 1,  0]],\n",
       "\n",
       "       [[ 0, -2],\n",
       "        [ 2,  0]],\n",
       "\n",
       "       [[ 0, -3],\n",
       "        [ 3,  0]]])"
      ]
     },
     "execution_count": 2,
     "metadata": {},
     "output_type": "execute_result"
    }
   ],
   "source": [
    "a = np.array([[1,2],[0,2],[0,3]])\n",
    "a[:,:,np.newaxis] - a[:,np.newaxis,:]\n"
   ]
  },
  {
   "cell_type": "code",
   "execution_count": 4,
   "metadata": {},
   "outputs": [
    {
     "data": {
      "text/plain": [
       "AnnData object with n_obs × n_vars = 4 × 2"
      ]
     },
     "execution_count": 4,
     "metadata": {},
     "output_type": "execute_result"
    }
   ],
   "source": [
    "adata = ad.AnnData(np.array([[0,1],[1,2],[5,4],[0,2]]))\n",
    "adata"
   ]
  },
  {
   "cell_type": "code",
   "execution_count": 5,
   "metadata": {},
   "outputs": [
    {
     "name": "stdout",
     "output_type": "stream",
     "text": [
      "0 2\n",
      "0 2\n",
      "Int64Index([0, 1], dtype='int64')\n",
      "2 3\n",
      "0 2\n",
      "Int64Index([2], dtype='int64')\n",
      "3 4\n",
      "0 2\n",
      "Int64Index([3], dtype='int64')\n"
     ]
    }
   ],
   "source": [
    "#test\n",
    "\n",
    "t = pd.DataFrame(np.array([[0,0,0],[1,1,1],[2,0,1],[3,1,3]]), columns=[\"x\",\"y\",\"score\"])\n",
    "adata.obs = t\n",
    "bins_x = [0,2,3,4]\n",
    "bins_y = [0,2]\n",
    "# t.loc[(t[\"x\"]>=bins_x[0])&(t[\"x\"]<bins_x[1])&(t[\"y\"]>=bins_y[0])&(t[\"y\"]<=bins_y[1])]\n",
    "t[\"test\"] = 0\n",
    "k = 0\n",
    "            \n",
    "for x_start, x_end in zip(bins_x[:-1], bins_x[1:]):\n",
    "    for y_start, y_end in zip(bins_y[:-1], bins_y[1:]):\n",
    "        df = t[\n",
    "            (t[\"x\"] >= x_start)\n",
    "            & (t[\"x\"] < x_end)\n",
    "            & (t[\"y\"] >= y_start)\n",
    "            & (t[\"y\"] < y_end)\n",
    "        ]\n",
    "        print(x_start, x_end)\n",
    "        print(y_start, y_end)\n",
    "        print(df.index)\n"
   ]
  },
  {
   "cell_type": "code",
   "execution_count": 12,
   "metadata": {},
   "outputs": [
    {
     "data": {
      "text/html": [
       "<div>\n",
       "<style scoped>\n",
       "    .dataframe tbody tr th:only-of-type {\n",
       "        vertical-align: middle;\n",
       "    }\n",
       "\n",
       "    .dataframe tbody tr th {\n",
       "        vertical-align: top;\n",
       "    }\n",
       "\n",
       "    .dataframe thead th {\n",
       "        text-align: right;\n",
       "    }\n",
       "</style>\n",
       "<table border=\"1\" class=\"dataframe\">\n",
       "  <thead>\n",
       "    <tr style=\"text-align: right;\">\n",
       "      <th></th>\n",
       "      <th>x</th>\n",
       "      <th>y</th>\n",
       "      <th>score</th>\n",
       "      <th>test</th>\n",
       "    </tr>\n",
       "  </thead>\n",
       "  <tbody>\n",
       "    <tr>\n",
       "      <th>3</th>\n",
       "      <td>3</td>\n",
       "      <td>1</td>\n",
       "      <td>3</td>\n",
       "      <td>0</td>\n",
       "    </tr>\n",
       "  </tbody>\n",
       "</table>\n",
       "</div>"
      ],
      "text/plain": [
       "   x  y  score  test\n",
       "3  3  1      3     0"
      ]
     },
     "execution_count": 12,
     "metadata": {},
     "output_type": "execute_result"
    }
   ],
   "source": [
    "t.loc[df.index,:]"
   ]
  },
  {
   "cell_type": "code",
   "execution_count": null,
   "metadata": {},
   "outputs": [],
   "source": [
    "#test data:\n",
    "# T = adata_exp0[adata_exp0.obs[\"cell_id\"].isin([1855,21448,1464])].copy()\n",
    "\n",
    "adata_Yao.obs.loc[adata_Yao.obs[\"celltype\"] == \"Pvalb\"]\n",
    "adata_exp0.obs.loc[adata_exp0.obs[\"celltype\"] == \"Pvalb\"]\n"
   ]
  },
  {
   "cell_type": "code",
   "execution_count": null,
   "metadata": {},
   "outputs": [],
   "source": [
    "A = np.array([[1,1],[1,0]])\n",
    "B = np.array([[1,1,1],[1,0,1],[1,1,1],[1,1,1]])\n",
    "test_sp = ad.AnnData(A)\n",
    "test_sc = ad.AnnData(B)\n",
    "test_sp.obs_names = [f\"Cell_sp_{i:d}\" for i in range(test_sp.n_obs)]\n",
    "test_sp.var_names = [f\"Gene_{i:d}\" for i in range(test_sp.n_vars)]\n",
    "test_sc.obs_names = [f\"Cell_sc_{i:d}\" for i in range(test_sc.n_obs)]\n",
    "test_sc.var_names = [f\"Gene_{i:d}\" for i in range(test_sc.n_vars)]"
   ]
  },
  {
   "cell_type": "code",
   "execution_count": null,
   "metadata": {},
   "outputs": [],
   "source": [
    "import mygrad as mg"
   ]
  },
  {
   "cell_type": "code",
   "execution_count": null,
   "metadata": {},
   "outputs": [],
   "source": [
    "x = mg.tensor([1.,2.,3.])\n",
    "f = np.sum(x*x)\n",
    "f.backward()\n",
    "x.grad"
   ]
  },
  {
   "cell_type": "code",
   "execution_count": null,
   "metadata": {},
   "outputs": [],
   "source": [
    "def f(x,y):\n",
    "    return x**2+y**2"
   ]
  },
  {
   "cell_type": "code",
   "execution_count": null,
   "metadata": {},
   "outputs": [],
   "source": [
    "x = mg.tensor(1)\n",
    "y = mg.tensor(2)\n",
    "f.backward()"
   ]
  },
  {
   "cell_type": "code",
   "execution_count": null,
   "metadata": {},
   "outputs": [],
   "source": [
    "x = mg.tensor(5)\n",
    "fx = x**2\n",
    "fx.backward()\n",
    "x.grad"
   ]
  },
  {
   "cell_type": "code",
   "execution_count": null,
   "metadata": {},
   "outputs": [],
   "source": [
    "import autograd as ag\n",
    "# from autograd.variable import Variable        #existiert nicht?"
   ]
  },
  {
   "cell_type": "code",
   "execution_count": null,
   "metadata": {},
   "outputs": [],
   "source": [
    "ag.set_mode('forward')\n",
    "x = Variable(1)\n",
    "b1 = x + 3\n",
    "b2 = ad.sin(x)\n",
    "b3 = ad.cos(b1)\n",
    "b4 = ad.sin(b3)\n",
    "b5 = b2*b2\n",
    "b6 = ad.exp(b5)\n",
    "b7 = b6 + b4"
   ]
  },
  {
   "cell_type": "code",
   "execution_count": 21,
   "metadata": {},
   "outputs": [],
   "source": [
    "import sympy as sym\n",
    "from sympy.tensor.array import derive_by_array"
   ]
  },
  {
   "cell_type": "code",
   "execution_count": 25,
   "metadata": {},
   "outputs": [
    {
     "data": {
      "text/plain": [
       "sympy.tensor.array.dense_ndim_array.ImmutableDenseNDimArray"
      ]
     },
     "execution_count": 25,
     "metadata": {},
     "output_type": "execute_result"
    }
   ],
   "source": [
    "x, y = sym.symbols('x y')\n",
    "f = x**2+y**2\n",
    "g = derive_by_array(f, (x,y))\n",
    "type(g)"
   ]
  },
  {
   "cell_type": "code",
   "execution_count": 29,
   "metadata": {},
   "outputs": [
    {
     "data": {
      "text/plain": [
       "[2, 4]"
      ]
     },
     "execution_count": 29,
     "metadata": {},
     "output_type": "execute_result"
    }
   ],
   "source": [
    "# Define the variables\n",
    "x, y = sym.symbols('x y')\n",
    "\n",
    "# Define the function\n",
    "f = x**2 + y**2\n",
    "\n",
    "# Compute the gradient of f\n",
    "gradient = [f.diff(var) for var in (x, y)]\n",
    "\n",
    "# Evaluate the gradient at (1, 2)\n",
    "gradient_at_point = [grad.subs([(x, 1), (y, 2)]) for grad in gradient]\n",
    "gradient_at_point"
   ]
  },
  {
   "cell_type": "code",
   "execution_count": null,
   "metadata": {},
   "outputs": [],
   "source": []
  }
 ],
 "metadata": {
  "kernelspec": {
   "display_name": "txsim_env",
   "language": "python",
   "name": "python3"
  },
  "language_info": {
   "codemirror_mode": {
    "name": "ipython",
    "version": 3
   },
   "file_extension": ".py",
   "mimetype": "text/x-python",
   "name": "python",
   "nbconvert_exporter": "python",
   "pygments_lexer": "ipython3",
   "version": "3.11.3"
  },
  "orig_nbformat": 4
 },
 "nbformat": 4,
 "nbformat_minor": 2
}
