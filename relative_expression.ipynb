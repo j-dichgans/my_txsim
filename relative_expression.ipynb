{
 "cells": [
  {
   "cell_type": "code",
   "execution_count": 1,
   "metadata": {},
   "outputs": [],
   "source": [
    "import scanpy as sc\n",
    "import numpy as np\n",
    "import pandas as pd\n",
    "from anndata import AnnData\n",
    "from scipy.sparse import issparse\n",
    "from scipy.sparse import csr_array\n",
    "import anndata as ad"
   ]
  },
  {
   "cell_type": "code",
   "execution_count": 2,
   "metadata": {},
   "outputs": [],
   "source": [
    "adata_exp0 = ad.read_h5ad('C:/Users/mdichgan/Documents/Helmholtz/send_to_Jakob/spatial/counts_CPc_exp0_BA28.h5ad')\n",
    "adata_Yao = ad.read_h5ad(\n",
    "    'C:/Users/mdichgan/Documents/Helmholtz/send_to_Jakob/sc/Yao_150kcells_subsample_with_annotations_sparse_subset.h5ad')"
   ]
  },
  {
   "cell_type": "code",
   "execution_count": 3,
   "metadata": {},
   "outputs": [],
   "source": [
    "adata_Yao.obs[\"celltype\"] = adata_Yao.obs[\"label\"]\n",
    "adata_exp0.layers[\"raw\"] = adata_exp0.X\n",
    "adata_Yao.layers[\"raw\"] = adata_Yao.X\n",
    "\n",
    "# sc.pp.normalize_total(adata_exp0)\n",
    "# sc.pp.normalize_total(adata_Yao)\n",
    "adata_exp0.layers[\"lognorm\"] = adata_exp0.X\n",
    "adata_Yao.layers[\"lognorm\"] = adata_Yao.X"
   ]
  },
  {
   "cell_type": "code",
   "execution_count": 4,
   "metadata": {},
   "outputs": [],
   "source": [
    "#adata_sp has no x,y coordinates, temporary random:\n",
    "adata_exp0.obs[\"x\"] = np.random.uniform(0,200,23282)\n",
    "adata_exp0.obs[\"y\"] = np.random.uniform(0,100,23282)"
   ]
  },
  {
   "cell_type": "code",
   "execution_count": 128,
   "metadata": {},
   "outputs": [],
   "source": [
    "def relative_pairwise_celltype_expression_local(adata_sp: AnnData, adata_sc: AnnData, bins_x: list[float], bins_y: list[float], key:str='celltype', layer:str='lognorm'):\n",
    "\n",
    "    min_number_cells = 1\n",
    "    n_bins_x = len(bins_x) - 1\n",
    "    n_bins_y = len(bins_y) - 1\n",
    "\n",
    "    ### SET UP\n",
    "    # set the .X layer of each of the adatas to be log-normalized counts\n",
    "    adata_sp.X = adata_sp.layers[layer]\n",
    "    adata_sc.X = adata_sc.layers[layer]\n",
    "\n",
    "    # take the intersection of genes in adata_sp and adata_sc, as a list\n",
    "    intersect_genes = list(set(adata_sp.var_names).intersection(set(adata_sc.var_names)))\n",
    "    n_intersect_genes = len(intersect_genes)\n",
    "\n",
    "    # subset adata_sc and adata_sp to only include genes in the intersection of adata_sp and adata_sc \n",
    "    adata_sc=adata_sc[:,intersect_genes]\n",
    "    adata_sp=adata_sp[:,intersect_genes]\n",
    "            \n",
    "    # find the intersection of unique celltypes in adata_sc and adata_sp\n",
    "    intersect_celltypes = list(set(adata_sp.obs[\"celltype\"]).intersection(set(adata_sc.obs[\"celltype\"])))\n",
    "\n",
    "    adata_sc = adata_sc[adata_sc.obs[key].isin(intersect_celltypes), :]\n",
    "    adata_sp = adata_sp[adata_sp.obs[key].isin(intersect_celltypes), :]\n",
    "\n",
    "    # for easier subsetting later\n",
    "    adata_sp.obs.index = adata_sp.obs.index.str[5:].astype(int)\n",
    "\n",
    "    # get expression arrays and sum of expression for normalization\n",
    "    sc_X = adata_sc.X.toarray()\n",
    "    sp_X = adata_sp.X.toarray()\n",
    "    sum_sc = np.sum(sc_X)\n",
    "\n",
    "    # get the adata_sc cell x gene matrix as a pandas dataframe (w gene names as column names)\n",
    "    exp_sc=pd.DataFrame(sc_X,columns=adata_sc.var.index)        \n",
    "\n",
    "    # get the adata_sp cell x gene matrix as a pandas dataframe (w gene names as column names)\n",
    "    exp_sp=pd.DataFrame(sp_X,columns=adata_sp.var.index)\n",
    "\n",
    "    # add \"celltype\" label column to exp_sc & exp_sp cell x gene matrices \n",
    "    exp_sc[key]=list(adata_sc.obs[key])\n",
    "    exp_sp[key]=list(adata_sp.obs[key])\n",
    "\n",
    "    exp_sp.index = adata_sp.obs.index\n",
    "\n",
    "    # get the mean expression per celltype and normalize by sum_sc and n_intersect_genes \n",
    "    if sum_sc != 0:\n",
    "        mean_celltype_sc_normalized=(exp_sc.groupby(key).mean()/sum_sc)*n_intersect_genes\n",
    "    else: \n",
    "        mean_celltype_sc_normalized=0\n",
    "\n",
    "    # get pairwise differences of normalized mean expression of sc\n",
    "    mean_celltype_sc_normalized = mean_celltype_sc_normalized.to_numpy()\n",
    "    pairwise_diff_sc = mean_celltype_sc_normalized[:,:,np.newaxis] - mean_celltype_sc_normalized[:,np.newaxis,:]\n",
    "\n",
    "    gridfield_metric = np.zeros((n_bins_y,n_bins_x))\n",
    "\n",
    "    i, j = 0, 0\n",
    "    for x_start, x_end in zip(bins_x[:-1], bins_x[1:]):\n",
    "        i = 0\n",
    "        for y_start, y_end in zip(bins_y[:-1], bins_y[1:]):    \n",
    "            #hat adata_sp.obs immer x, y Koord? Sonst mit get_cells_location Funktion\n",
    "            df = adata_sp.obs[[\"x\", \"y\"]]\n",
    "            df = df[\n",
    "            (df[\"x\"] >= x_start)\n",
    "            & (df[\"x\"] < x_end)\n",
    "            & (df[\"y\"] >= y_start)\n",
    "            & (df[\"y\"] < y_end)\n",
    "        ]\n",
    "\n",
    "            sp_local = exp_sp.loc[df.index,:]          \n",
    "            sum_sp_local = np.sum(np.sum(sp_local.iloc[:,:-1]))\n",
    "\n",
    "            if (any(sp_local[key].value_counts() < 1)) | (not set(list(exp_sc[key].unique())).issubset(set(list(sp_local[key].unique())))):\n",
    "                gridfield_metric[n_bins_y-1-i,j] = np.nan\n",
    "                i += 1\n",
    "                continue        \n",
    "                \n",
    "            # find the mean expression for each gene for each celltype in sc and sp data\n",
    "            mean_celltype_sp_normalized=sp_local.groupby(key).mean()/sum_sp_local\n",
    "            mean_celltype_sp_normalized=mean_celltype_sp_normalized.to_numpy()\n",
    "            pairwise_diff_sp = mean_celltype_sp_normalized[:,:,np.newaxis] - mean_celltype_sp_normalized[:,np.newaxis,:]\n",
    "\n",
    "            delta = np.sum(np.abs(pairwise_diff_sp-pairwise_diff_sc))\n",
    "            gridfield_metric[n_bins_y-1-i,j]  = 1-delta/(2*np.sum(np.abs(pairwise_diff_sc)))\n",
    "            i+=1\n",
    "        j+=1 \n",
    "\n",
    "    return gridfield_metric\n",
    "        "
   ]
  },
  {
   "cell_type": "code",
   "execution_count": 131,
   "metadata": {},
   "outputs": [
    {
     "data": {
      "text/plain": [
       "array([[0.51178149, 0.51119454, 0.51139832, 0.51090119, 0.51050044],\n",
       "       [0.51131005, 0.51052719, 0.51128593, 0.51093208, 0.51183216]])"
      ]
     },
     "execution_count": 131,
     "metadata": {},
     "output_type": "execute_result"
    }
   ],
   "source": [
    "relative_pairwise_celltype_expression_local(adata_exp0,adata_Yao,list(range(0,201,40)),list(range(0,101,50)))"
   ]
  },
  {
   "cell_type": "code",
   "execution_count": 38,
   "metadata": {},
   "outputs": [],
   "source": [
    "layer = \"lognorm\"\n",
    "key = \"celltype\"\n",
    "adata_sp, adata_sc = adata_exp0, adata_Yao\n",
    "bins_x, bins_y = list(range(0,201,20)),list(range(1,101,20))\n",
    "min_number_cells = 10 \n",
    "n_bins_x = len(bins_x) - 1\n",
    "n_bins_y = len(bins_y) - 1\n",
    "\n",
    "### SET UP\n",
    "# set the .X layer of each of the adatas to be log-normalized counts\n",
    "adata_sp.X = adata_sp.layers[layer]\n",
    "adata_sc.X = adata_sc.layers[layer]\n",
    "\n",
    "# take the intersection of genes in adata_sp and adata_sc, as a list\n",
    "intersect_genes = list(set(adata_sp.var_names).intersection(set(adata_sc.var_names)))\n",
    "n_intersect_genes = len(intersect_genes)\n",
    "\n",
    "# subset adata_sc and adata_sp to only include genes in the intersection of adata_sp and adata_sc \n",
    "adata_sc=adata_sc[:,intersect_genes]\n",
    "adata_sp=adata_sp[:,intersect_genes]\n",
    "        \n",
    "# find the intersection of unique celltypes in adata_sc and adata_sp\n",
    "intersect_celltypes = list(set(adata_sp.obs[\"celltype\"]).intersection(set(adata_sc.obs[\"celltype\"])))\n",
    "\n",
    "adata_sc = adata_sc[adata_sc.obs[key].isin(intersect_celltypes), :]\n",
    "adata_sp = adata_sp[adata_sp.obs[key].isin(intersect_celltypes), :]\n",
    "\n",
    "# for easier subsetting later\n",
    "adata_sp.obs.index = adata_sp.obs.index.str[5:].astype(int)\n",
    "\n",
    "# get expression arrays and sum of expression for normalization\n",
    "sc_X = adata_sc.X.toarray()\n",
    "sp_X = adata_sp.X.toarray()\n",
    "sum_sc = np.sum(sc_X)\n",
    "\n",
    "# get the adata_sc cell x gene matrix as a pandas dataframe (w gene names as column names)\n",
    "exp_sc=pd.DataFrame(sc_X,columns=adata_sc.var.index)        \n",
    "\n",
    "# get the adata_sp cell x gene matrix as a pandas dataframe (w gene names as column names)\n",
    "exp_sp=pd.DataFrame(sp_X,columns=adata_sp.var.index)\n",
    "\n",
    "# add \"celltype\" label column to exp_sc & exp_sp cell x gene matrices \n",
    "exp_sc[key]=list(adata_sc.obs[key])\n",
    "exp_sp[key]=list(adata_sp.obs[key])\n",
    "\n",
    "exp_sp.index = adata_sp.obs.index"
   ]
  },
  {
   "cell_type": "code",
   "execution_count": 42,
   "metadata": {},
   "outputs": [],
   "source": [
    "# get the mean expression per celltype and normalize by sum_sc and n_intersect_genes \n",
    "if sum_sc != 0:\n",
    "    mean_celltype_sc_normalized=(exp_sc.groupby(key).mean()/sum_sc)*n_intersect_genes\n",
    "else: \n",
    "    mean_celltype_sc_normalized=0"
   ]
  },
  {
   "cell_type": "code",
   "execution_count": null,
   "metadata": {},
   "outputs": [],
   "source": [
    "# get pairwise differences of normalized mean expression of sc\n",
    "mean_celltype_sc_normalized = mean_celltype_sc_normalized.to_numpy()\n",
    "pairwise_diff_sc = mean_celltype_sc_normalized[:,:,np.newaxis] - mean_celltype_sc_normalized[:,np.newaxis,:]"
   ]
  },
  {
   "cell_type": "code",
   "execution_count": 85,
   "metadata": {},
   "outputs": [
    {
     "data": {
      "text/plain": [
       "(4, 10)"
      ]
     },
     "execution_count": 85,
     "metadata": {},
     "output_type": "execute_result"
    }
   ],
   "source": [
    "gridfield_metric = np.zeros((n_bins_y,n_bins_x))\n",
    "np.shape(gridfield_metric)"
   ]
  },
  {
   "cell_type": "code",
   "execution_count": 125,
   "metadata": {},
   "outputs": [],
   "source": [
    "i, j = 0, 0\n",
    "for x_start, x_end in zip(bins_x[:-1], bins_x[1:]):\n",
    "    i = 0\n",
    "    for y_start, y_end in zip(bins_y[:-1], bins_y[1:]):    \n",
    "        #hat adata_sp.obs immer x, y Koord? Sonst mit get_cells_location Funktion\n",
    "        df = adata_sp.obs[[\"x\", \"y\"]]\n",
    "        df = df[\n",
    "          (df[\"x\"] >= x_start)\n",
    "        & (df[\"x\"] < x_end)\n",
    "        & (df[\"y\"] >= y_start)\n",
    "        & (df[\"y\"] < y_end)\n",
    "    ]\n",
    "\n",
    "        sp_local = exp_sp.loc[df.index,:]          \n",
    "        sum_sp_local = np.sum(np.sum(sp_local.iloc[:,:-1]))\n",
    "\n",
    "        if (any(sp_local[key].value_counts() < 1)) | (not set(list(exp_sc[key].unique())).issubset(set(list(sp_local[key].unique())))):\n",
    "            gridfield_metric[n_bins_y-1-i,j] = np.nan\n",
    "            i += 1\n",
    "            continue        \n",
    "            \n",
    "        # find the mean expression for each gene for each celltype in sc and sp data\n",
    "        mean_celltype_sp_normalized=sp_local.groupby(key).mean()/sum_sp_local\n",
    "        mean_celltype_sp_normalized=mean_celltype_sp_normalized.to_numpy()\n",
    "        pairwise_diff_sp = mean_celltype_sp_normalized[:,:,np.newaxis] - mean_celltype_sp_normalized[:,np.newaxis,:]\n",
    "\n",
    "        delta = np.sum(np.abs(pairwise_diff_sp-pairwise_diff_sc))\n",
    "        gridfield_metric[n_bins_y-1-i,j]  = 1-delta/(2*np.sum(np.abs(pairwise_diff_sc)))\n",
    "        i+=1\n",
    "    j+=1 \n"
   ]
  },
  {
   "cell_type": "code",
   "execution_count": 126,
   "metadata": {},
   "outputs": [
    {
     "data": {
      "text/plain": [
       "array([[0.5507064 ,        nan,        nan,        nan,        nan,\n",
       "        0.55387133, 0.54822223,        nan, 0.54959879, 0.54201472],\n",
       "       [       nan, 0.55403018,        nan,        nan, 0.55726358,\n",
       "               nan, 0.54124294,        nan,        nan,        nan],\n",
       "       [       nan,        nan,        nan,        nan,        nan,\n",
       "               nan,        nan,        nan,        nan,        nan],\n",
       "       [       nan,        nan,        nan, 0.54214209,        nan,\n",
       "               nan,        nan,        nan, 0.55475839,        nan]])"
      ]
     },
     "execution_count": 126,
     "metadata": {},
     "output_type": "execute_result"
    }
   ],
   "source": [
    "gridfield_metric"
   ]
  },
  {
   "cell_type": "code",
   "execution_count": 101,
   "metadata": {},
   "outputs": [
    {
     "data": {
      "text/plain": [
       "array(['CA3', 'Car3', 'Lamp5', 'Oligo', 'L6b CTX', 'L6 CT CTX', 'Vip',\n",
       "       'Pvalb', 'CA1-ProS', 'Astro', 'Endo', 'L4/5 IT CTX', 'L5 IT CTX',\n",
       "       'Sst', 'SMC-Peri', 'L5 PT CTX', 'Micro-PVM', 'VLMC', 'DG',\n",
       "       'L5 NP CTX', 'CR'], dtype=object)"
      ]
     },
     "execution_count": 101,
     "metadata": {},
     "output_type": "execute_result"
    }
   ],
   "source": [
    "sp_local[\"celltype\"].unique()"
   ]
  },
  {
   "cell_type": "code",
   "execution_count": 110,
   "metadata": {},
   "outputs": [
    {
     "data": {
      "text/plain": [
       "{'Meis2'}"
      ]
     },
     "execution_count": 110,
     "metadata": {},
     "output_type": "execute_result"
    }
   ],
   "source": [
    "set(list(exp_sc[\"celltype\"].unique()))"
   ]
  },
  {
   "cell_type": "code",
   "execution_count": 121,
   "metadata": {},
   "outputs": [
    {
     "data": {
      "text/plain": [
       "False"
      ]
     },
     "execution_count": 121,
     "metadata": {},
     "output_type": "execute_result"
    }
   ],
   "source": [
    "set(list(exp_sc[\"celltype\"].unique())).issubset(set(list(sp_local[\"celltype\"].unique())))"
   ]
  },
  {
   "cell_type": "code",
   "execution_count": null,
   "metadata": {},
   "outputs": [],
   "source": [
    "a = np.array([[1,2],[0,2],[0,3]])\n",
    "a[:,:,np.newaxis] - a[:,np.newaxis,:]\n"
   ]
  },
  {
   "cell_type": "code",
   "execution_count": null,
   "metadata": {},
   "outputs": [],
   "source": [
    "adata = ad.AnnData(np.array([[0,1],[1,2],[5,4],[0,2]]))\n",
    "adata"
   ]
  },
  {
   "cell_type": "code",
   "execution_count": null,
   "metadata": {},
   "outputs": [],
   "source": [
    "#test\n",
    "\n",
    "t = pd.DataFrame(np.array([[0,0,0],[1,1,1],[2,0,1],[3,1,3]]), columns=[\"x\",\"y\",\"score\"])\n",
    "adata.obs = t\n",
    "bins_x = [0,2,3,4]\n",
    "bins_y = [0,2]\n",
    "# t.loc[(t[\"x\"]>=bins_x[0])&(t[\"x\"]<bins_x[1])&(t[\"y\"]>=bins_y[0])&(t[\"y\"]<=bins_y[1])]\n",
    "t[\"test\"] = 0\n",
    "k = 0\n",
    "            \n",
    "for x_start, x_end in zip(bins_x[:-1], bins_x[1:]):\n",
    "    for y_start, y_end in zip(bins_y[:-1], bins_y[1:]):\n",
    "        df = t[\n",
    "            (t[\"x\"] >= x_start)\n",
    "            & (t[\"x\"] < x_end)\n",
    "            & (t[\"y\"] >= y_start)\n",
    "            & (t[\"y\"] < y_end)\n",
    "        ]\n",
    "        print(x_start, x_end)\n",
    "        print(y_start, y_end)\n",
    "        print(df.index)\n"
   ]
  }
 ],
 "metadata": {
  "kernelspec": {
   "display_name": "txsim_env",
   "language": "python",
   "name": "python3"
  },
  "language_info": {
   "codemirror_mode": {
    "name": "ipython",
    "version": 3
   },
   "file_extension": ".py",
   "mimetype": "text/x-python",
   "name": "python",
   "nbconvert_exporter": "python",
   "pygments_lexer": "ipython3",
   "version": "3.11.3"
  },
  "orig_nbformat": 4
 },
 "nbformat": 4,
 "nbformat_minor": 2
}
