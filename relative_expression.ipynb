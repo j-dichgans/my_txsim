{
 "cells": [
  {
   "cell_type": "code",
   "execution_count": 1,
   "metadata": {},
   "outputs": [],
   "source": [
    "import scanpy as sc\n",
    "import numpy as np\n",
    "import pandas as pd\n",
    "from anndata import AnnData\n",
    "from scipy.sparse import issparse\n",
    "from scipy.sparse import csr_array\n",
    "import anndata as ad"
   ]
  },
  {
   "cell_type": "code",
   "execution_count": 2,
   "metadata": {},
   "outputs": [],
   "source": [
    "adata_exp0 = ad.read_h5ad('C:/Users/mdichgan/Documents/Helmholtz/send_to_Jakob/spatial/counts_CPc_exp0_BA28.h5ad')\n",
    "adata_Yao = ad.read_h5ad(\n",
    "    'C:/Users/mdichgan/Documents/Helmholtz/send_to_Jakob/sc/Yao_150kcells_subsample_with_annotations_sparse_subset.h5ad')"
   ]
  },
  {
   "cell_type": "code",
   "execution_count": 3,
   "metadata": {},
   "outputs": [],
   "source": [
    "adata_Yao.obs[\"celltype\"] = adata_Yao.obs[\"label\"]\n",
    "adata_exp0.layers[\"raw\"] = adata_exp0.X\n",
    "adata_Yao.layers[\"raw\"] = adata_Yao.X\n",
    "\n",
    "# sc.pp.normalize_total(adata_exp0)\n",
    "# sc.pp.normalize_total(adata_Yao)\n",
    "adata_exp0.layers[\"lognorm\"] = adata_exp0.X\n",
    "adata_Yao.layers[\"lognorm\"] = adata_Yao.X"
   ]
  },
  {
   "cell_type": "code",
   "execution_count": 4,
   "metadata": {},
   "outputs": [],
   "source": [
    "#adata_sp has no x,y coordinates, temporary random:\n",
    "adata_exp0.obs[\"x\"] = np.random.uniform(0,200,23282)\n",
    "adata_exp0.obs[\"y\"] = np.random.uniform(0,100,23282)"
   ]
  },
  {
   "cell_type": "code",
   "execution_count": 32,
   "metadata": {},
   "outputs": [],
   "source": [
    "def relative_pairwise_celltype_expression_local(adata_sp: AnnData, adata_sc: AnnData, bins_x: list[float], bins_y: list[float], key:str='celltype', layer:str='lognorm'):\n",
    "    \n",
    "    min_number_cells = 10 \n",
    "    n_bins_x = len(bins_x) - 1\n",
    "    n_bins_y = len(bins_y) - 1\n",
    "    \n",
    "    ### SET UP\n",
    "    # set the .X layer of each of the adatas to be log-normalized counts\n",
    "    adata_sp.X = adata_sp.layers[layer]\n",
    "    adata_sc.X = adata_sc.layers[layer]\n",
    "    \n",
    "    # take the intersection of genes in adata_sp and adata_sc, as a list\n",
    "    intersect_genes = list(set(adata_sp.var_names).intersection(set(adata_sc.var_names)))\n",
    "    \n",
    "    # subset adata_sc and adata_sp to only include genes in the intersection of adata_sp and adata_sc \n",
    "    adata_sc=adata_sc[:,intersect_genes]\n",
    "    adata_sp=adata_sp[:,intersect_genes]\n",
    "\n",
    "    # find the intersection of unique celltypes in adata_sc and adata_sp\n",
    "    interesect_celltypes = list(set(adata_sp.obs[\"celltype\"]).intersection(set(adata_sc.obs[\"celltype\"])))\n",
    " \n",
    "    sc_X = adata_sc.X.toarray()\n",
    "    sp_X = adata_sp.X.toarray()\n",
    "\n",
    "    # get the adata_sc cell x gene matrix as a pandas dataframe (w gene names as column names)\n",
    "    exp_sc=pd.DataFrame(sc_X,columns=adata_sc.var.index)        \n",
    "    \n",
    "    # get the adata_sp cell x gene matrix as a pandas dataframe (w gene names as column names)\n",
    "    exp_sp=pd.DataFrame(sp_X,columns=adata_sp.var.index)\n",
    "    \n",
    "    # add \"celltype\" label column to exp_sc & exp_sp cell x gene matrices \n",
    "    exp_sc[key]=list(adata_sc.obs[key])\n",
    "    exp_sp[key]=list(adata_sp.obs[key])\n",
    "    \n",
    "    # delete all cells from the exp matrices if they aren't in the set of intersecting celltypes b/t sc & sp data\n",
    "    exp_sc=exp_sc.loc[exp_sc[key].isin(interesect_celltypes),:]\n",
    "    exp_sp=exp_sp.loc[exp_sp[key].isin(interesect_celltypes),:]\n",
    "\n",
    "    sum_sc = np.sum(np.sum(exp_sc.iloc[:,:-1]))                             #wie eleganter? (axis = None funktioniert nicht)\n",
    "    mean_celltype_sc_normalized=exp_sc.groupby(key).mean()/sum_sc\n",
    "\n",
    "    mean_celltype_sc_normalized = mean_celltype_sc_normalized.T.to_numpy()\n",
    "    pairwise_diff_sc = mean_celltype_sc_normalized[:,:,np.newaxis] - mean_celltype_sc_normalized[:,np.newaxis,:]\n",
    "\n",
    "    gridfield_metric = np.ones((n_bins_x,n_bins_y))\n",
    "    i, j = 0, 0\n",
    "\n",
    "    adata_sp = adata_sp[adata_sp.obs[\"celltype\"].isin(interesect_celltypes),:]\n",
    "    adata_sp.obs.index = adata_sp.obs.index.str[5:].astype(int)\n",
    "        \n",
    "    for x_start, x_end in zip(bins_x[:-1], bins_x[1:]):\n",
    "        for y_start, y_end in zip(bins_y[:-1], bins_y[1:]):    \n",
    "            #hat adata_sp.obs immer x, y Koord? Sonst mit get_cells_location Funktion\n",
    "            df = adata_sp.obs[[\"x\", \"y\"]]\n",
    "            df = df[\n",
    "            (df[\"x\"] >= x_start)\n",
    "            & (df[\"x\"] < x_end)\n",
    "            & (df[\"y\"] >= y_start)\n",
    "            & (df[\"y\"] < y_end)\n",
    "        ]\n",
    "\n",
    "            sp_local = exp_sp.loc[df.index,:]           \n",
    "            sum_sp_local = np.sum(np.sum(sp_local.iloc[:,:-1]))\n",
    "\n",
    "            if any(sp_local[key].value_counts() < min_number_cells):\n",
    "                gridfield_metric[n_bins_y-1-i,j] = np.nan\n",
    "                i += 1\n",
    "                continue        \n",
    "                \n",
    "            # find the mean expression for each gene for each celltype in sc and sp data\n",
    "            mean_celltype_sp_normalized=sp_local.groupby(key).mean()/sum_sp_local\n",
    "            mean_celltype_sp_normalized=mean_celltype_sp_normalized.T.to_numpy()\n",
    "            pairwise_diff_sp = mean_celltype_sp_normalized[:,:,np.newaxis] - mean_celltype_sp_normalized[:,np.newaxis,:]\n",
    "\n",
    "            delta = np.sum(np.abs(pairwise_diff_sp-pairwise_diff_sc))\n",
    "            gridfield_metric[n_bins_y-1-i,j]  = 1-delta/(2*np.sum(np.abs(pairwise_diff_sc)))\n",
    "            i+=1\n",
    "    j+=1 \n",
    "\n",
    "    return gridfield_metric"
   ]
  },
  {
   "cell_type": "code",
   "execution_count": null,
   "metadata": {},
   "outputs": [],
   "source": [
    "relative_pairwise_celltype_expression_local(adata_exp0,adata_Yao,list(range(0,201,20)),list(range(1,101,20)))"
   ]
  },
  {
   "cell_type": "code",
   "execution_count": 5,
   "metadata": {},
   "outputs": [],
   "source": [
    "layer = \"lognorm\"\n",
    "key = \"celltype\"\n",
    "adata_sp, adata_sc = adata_exp0, adata_Yao\n",
    "bins_x, bins_y = list(range(0,201,20)),list(range(1,101,20))\n",
    "min_number_cells = 10 \n",
    "n_bins_x = len(bins_x) - 1\n",
    "n_bins_y = len(bins_y) - 1\n",
    "\n",
    "### SET UP\n",
    "# set the .X layer of each of the adatas to be log-normalized counts\n",
    "adata_sp.X = adata_sp.layers[layer]\n",
    "adata_sc.X = adata_sc.layers[layer]\n",
    "\n",
    "# take the intersection of genes in adata_sp and adata_sc, as a list\n",
    "intersect_genes = list(set(adata_sp.var_names).intersection(set(adata_sc.var_names)))\n",
    "\n",
    "# subset adata_sc and adata_sp to only include genes in the intersection of adata_sp and adata_sc \n",
    "adata_sc=adata_sc[:,intersect_genes]\n",
    "adata_sp=adata_sp[:,intersect_genes]\n",
    "\n",
    "sc_X = adata_sc.X.toarray()\n",
    "sp_X = adata_sp.X.toarray()\n",
    "        \n",
    "# find the intersection of unique celltypes in adata_sc and adata_sp\n",
    "interesect_celltypes = list(set(adata_sp.obs[\"celltype\"]).intersection(set(adata_sc.obs[\"celltype\"])))\n",
    "\n",
    "# get the adata_sc cell x gene matrix as a pandas dataframe (w gene names as column names)\n",
    "exp_sc=pd.DataFrame(sc_X,columns=adata_sc.var.index)        \n",
    "\n",
    "# get the adata_sp cell x gene matrix as a pandas dataframe (w gene names as column names)\n",
    "exp_sp=pd.DataFrame(sp_X,columns=adata_sp.var.index)\n",
    "\n",
    "# add \"celltype\" label column to exp_sc & exp_sp cell x gene matrices \n",
    "exp_sc[key]=list(adata_sc.obs[key])\n",
    "exp_sp[key]=list(adata_sp.obs[key])\n"
   ]
  },
  {
   "cell_type": "code",
   "execution_count": 6,
   "metadata": {},
   "outputs": [],
   "source": [
    "# delete all cells from the exp matrices if they aren't in the set of intersecting celltypes b/t sc & sp data\n",
    "exp_sc=exp_sc.loc[exp_sc[key].isin(interesect_celltypes),:]\n",
    "exp_sp=exp_sp.loc[exp_sp[key].isin(interesect_celltypes),:]"
   ]
  },
  {
   "cell_type": "code",
   "execution_count": 7,
   "metadata": {},
   "outputs": [],
   "source": [
    "sum_sc = np.sum(np.sum(exp_sc.iloc[:,:-1]))"
   ]
  },
  {
   "cell_type": "code",
   "execution_count": 8,
   "metadata": {},
   "outputs": [],
   "source": [
    "mean_celltype_sc_normalized=exp_sc.groupby(key).mean()/sum_sc"
   ]
  },
  {
   "cell_type": "code",
   "execution_count": 9,
   "metadata": {},
   "outputs": [],
   "source": [
    "mean_celltype_sc_normalized = mean_celltype_sc_normalized.to_numpy()\n",
    "pairwise_diff_sc = mean_celltype_sc_normalized[:,:,np.newaxis] - mean_celltype_sc_normalized[:,np.newaxis,:]\n",
    "\n",
    "gridfield_metric = np.zeros((n_bins_x,n_bins_y))\n",
    "i, j = 0, 0"
   ]
  },
  {
   "cell_type": "code",
   "execution_count": 11,
   "metadata": {},
   "outputs": [],
   "source": [
    "adata_sp = adata_sp[adata_sp.obs[\"celltype\"].isin(interesect_celltypes),:]\n",
    "adata_sp.obs.index = adata_sp.obs.index.str[5:].astype(int)"
   ]
  },
  {
   "cell_type": "code",
   "execution_count": 34,
   "metadata": {},
   "outputs": [
    {
     "ename": "IndexError",
     "evalue": "index -11 is out of bounds for axis 0 with size 10",
     "output_type": "error",
     "traceback": [
      "\u001b[1;31m---------------------------------------------------------------------------\u001b[0m",
      "\u001b[1;31mIndexError\u001b[0m                                Traceback (most recent call last)",
      "Cell \u001b[1;32mIn[34], line 16\u001b[0m\n\u001b[0;32m     13\u001b[0m sum_sp_local \u001b[39m=\u001b[39m np\u001b[39m.\u001b[39msum(np\u001b[39m.\u001b[39msum(sp_local\u001b[39m.\u001b[39miloc[:,:\u001b[39m-\u001b[39m\u001b[39m1\u001b[39m]))\n\u001b[0;32m     15\u001b[0m \u001b[39mif\u001b[39;00m \u001b[39many\u001b[39m(sp_local[key]\u001b[39m.\u001b[39mvalue_counts() \u001b[39m<\u001b[39m min_number_cells):\n\u001b[1;32m---> 16\u001b[0m     gridfield_metric[n_bins_y\u001b[39m-\u001b[39m\u001b[39m1\u001b[39m\u001b[39m-\u001b[39mi,j] \u001b[39m=\u001b[39m np\u001b[39m.\u001b[39mnan\n\u001b[0;32m     17\u001b[0m     i \u001b[39m+\u001b[39m\u001b[39m=\u001b[39m \u001b[39m1\u001b[39m\n\u001b[0;32m     18\u001b[0m     \u001b[39mcontinue\u001b[39;00m        \n",
      "\u001b[1;31mIndexError\u001b[0m: index -11 is out of bounds for axis 0 with size 10"
     ]
    }
   ],
   "source": [
    "for x_start, x_end in zip(bins_x[:-1], bins_x[1:]):\n",
    "    for y_start, y_end in zip(bins_y[:-1], bins_y[1:]):    \n",
    "        #hat adata_sp.obs immer x, y Koord? Sonst mit get_cells_location Funktion\n",
    "        df = adata_sp.obs[[\"x\", \"y\"]]\n",
    "        df = df[\n",
    "        (df[\"x\"] >= x_start)\n",
    "        & (df[\"x\"] < x_end)\n",
    "        & (df[\"y\"] >= y_start)\n",
    "        & (df[\"y\"] < y_end)\n",
    "    ]\n",
    "\n",
    "        sp_local = exp_sp.loc[df.index,:]          \n",
    "        sum_sp_local = np.sum(np.sum(sp_local.iloc[:,:-1]))\n",
    "\n",
    "        if any(sp_local[key].value_counts() < min_number_cells):\n",
    "            gridfield_metric[n_bins_y-1-i,j] = np.nan\n",
    "            i += 1\n",
    "            continue        \n",
    "            \n",
    "        # find the mean expression for each gene for each celltype in sc and sp data\n",
    "        mean_celltype_sp_normalized=sp_local.groupby(key).mean()/sum_sp_local\n",
    "        mean_celltype_sp_normalized=mean_celltype_sp_normalized.T.to_numpy()\n",
    "        pairwise_diff_sp = mean_celltype_sp_normalized[:,:,np.newaxis] - mean_celltype_sp_normalized[:,np.newaxis,:]\n",
    "\n",
    "        delta = np.sum(np.abs(pairwise_diff_sp-pairwise_diff_sc))\n",
    "        gridfield_metric[n_bins_y-1-i,j]  = 1-delta/(2*np.sum(np.abs(pairwise_diff_sc)))\n",
    "        i+=1\n",
    "j+=1 \n"
   ]
  },
  {
   "cell_type": "code",
   "execution_count": null,
   "metadata": {},
   "outputs": [],
   "source": [
    "a = np.array([[1,2],[0,2],[0,3]])\n",
    "a[:,:,np.newaxis] - a[:,np.newaxis,:]\n"
   ]
  },
  {
   "cell_type": "code",
   "execution_count": null,
   "metadata": {},
   "outputs": [],
   "source": [
    "adata = ad.AnnData(np.array([[0,1],[1,2],[5,4],[0,2]]))\n",
    "adata"
   ]
  },
  {
   "cell_type": "code",
   "execution_count": null,
   "metadata": {},
   "outputs": [],
   "source": [
    "#test\n",
    "\n",
    "t = pd.DataFrame(np.array([[0,0,0],[1,1,1],[2,0,1],[3,1,3]]), columns=[\"x\",\"y\",\"score\"])\n",
    "adata.obs = t\n",
    "bins_x = [0,2,3,4]\n",
    "bins_y = [0,2]\n",
    "# t.loc[(t[\"x\"]>=bins_x[0])&(t[\"x\"]<bins_x[1])&(t[\"y\"]>=bins_y[0])&(t[\"y\"]<=bins_y[1])]\n",
    "t[\"test\"] = 0\n",
    "k = 0\n",
    "            \n",
    "for x_start, x_end in zip(bins_x[:-1], bins_x[1:]):\n",
    "    for y_start, y_end in zip(bins_y[:-1], bins_y[1:]):\n",
    "        df = t[\n",
    "            (t[\"x\"] >= x_start)\n",
    "            & (t[\"x\"] < x_end)\n",
    "            & (t[\"y\"] >= y_start)\n",
    "            & (t[\"y\"] < y_end)\n",
    "        ]\n",
    "        print(x_start, x_end)\n",
    "        print(y_start, y_end)\n",
    "        print(df.index)\n"
   ]
  }
 ],
 "metadata": {
  "kernelspec": {
   "display_name": "txsim_env",
   "language": "python",
   "name": "python3"
  },
  "language_info": {
   "codemirror_mode": {
    "name": "ipython",
    "version": 3
   },
   "file_extension": ".py",
   "mimetype": "text/x-python",
   "name": "python",
   "nbconvert_exporter": "python",
   "pygments_lexer": "ipython3",
   "version": "3.11.3"
  },
  "orig_nbformat": 4
 },
 "nbformat": 4,
 "nbformat_minor": 2
}
