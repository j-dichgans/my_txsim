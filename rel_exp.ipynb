{
 "cells": [
  {
   "cell_type": "code",
   "execution_count": 125,
   "metadata": {},
   "outputs": [],
   "source": [
    "import scanpy as sc\n",
    "import numpy as np\n",
    "import pandas as pd\n",
    "import anndata as ad\n",
    "from scipy.sparse import issparse\n",
    "from scipy.sparse import csr_array\n",
    "import anndata as ad"
   ]
  },
  {
   "cell_type": "code",
   "execution_count": 130,
   "metadata": {},
   "outputs": [],
   "source": [
    "#Test Datensatz erstellen:\n",
    "layer = \"lognorm\"\n",
    "key = \"celltype\"\n",
    "\n",
    "sc_gene_A = np.random.normal(1,0.5,20)\n",
    "sc_gene_B = np.random.normal(-1,0.5,20)\n",
    "M = np.array([sc_gene_A, sc_gene_B]).T\n",
    "\n",
    "counts_sc = np.vstack((M,M))\n",
    "\n",
    "adata_sc = ad.AnnData(counts_sc)\n",
    "adata_sc.obs_names = [f\"Cell_{i:d}\" for i in range(adata_sc.n_obs)]\n",
    "adata_sc.var_names = [f\"Gene_{i:d}\" for i in range(adata_sc.n_vars)]\n",
    "\n",
    "\n",
    "counts_sp = np.vstack((M, np.array([sc_gene_B, sc_gene_A]).T))\n",
    "\n",
    "adata_sp = ad.AnnData(counts_sp)\n",
    "adata_sp.obs_names = [f\"Cell_{i:d}\" for i in range(adata_sp.n_obs)]\n",
    "adata_sp.var_names = [f\"Gene_{i:d}\" for i in range(adata_sp.n_vars)]\n",
    "\n",
    "adata_sc.layers[layer] = adata_sc.X\n",
    "adata_sp.layers[layer] = adata_sp.X\n",
    "\n",
    "a, b = np.zeros(20), np.ones(20)\n",
    "x = np.array([a,a]).T\n",
    "y = np.array([b,a]).T\n",
    "adata_sp.obs[[\"x\", \"y\"]] = np.vstack((x,y))\n",
    "\n",
    "adata_sp.obs[key] = [f\"celltype_{i:d}\" for i in range(adata_sp.n_obs)]\n",
    "adata_sc.obs[key] = [f\"celltype_{i:d}\" for i in range(adata_sc.n_obs)]\n",
    "\n",
    "bins_x, bins_y = [0,1,2], [0,1]"
   ]
  },
  {
   "cell_type": "code",
   "execution_count": 131,
   "metadata": {},
   "outputs": [],
   "source": [
    "#Funktion: relative_expression_similarity_across_genes_local\n",
    "\n",
    "min_total_cells = 20\n",
    "min_n_cells_per_ct = 0\n",
    "n_bins_x = len(bins_x) - 1\n",
    "n_bins_y = len(bins_y) - 1\n",
    "\n",
    "### SET UP\n",
    "# set the .X layer of each of the adatas to be log-normalized counts\n",
    "adata_sp.X = adata_sp.layers[layer]\n",
    "adata_sc.X = adata_sc.layers[layer]\n",
    "\n",
    "# take the intersection of genes in adata_sp and adata_sc, as a list\n",
    "intersect_genes = list(set(adata_sp.var_names).intersection(set(adata_sc.var_names)))\n",
    "n_intersect_genes = len(intersect_genes)\n",
    "\n",
    "# subset adata_sc and adata_sp to only include genes in the intersection of adata_sp and adata_sc \n",
    "adata_sc=adata_sc[:,intersect_genes]\n",
    "adata_sp=adata_sp[:,intersect_genes]\n",
    "        \n",
    "# find the intersection of unique celltypes in adata_sc and adata_sp\n",
    "intersect_celltypes = list(set(adata_sp.obs[\"celltype\"]).intersection(set(adata_sc.obs[\"celltype\"])))\n",
    "\n",
    "adata_sc = adata_sc[adata_sc.obs[key].isin(intersect_celltypes), :]\n",
    "adata_sp = adata_sp[adata_sp.obs[key].isin(intersect_celltypes), :]\n",
    "\n",
    "sp_X = adata_sp.X.toarray()\n",
    "exp_sp = pd.DataFrame(sp_X,columns=intersect_genes)\n",
    "exp_sp.index = adata_sp.obs.index\n",
    "\n",
    "gridfield_metric = np.zeros((n_bins_y,n_bins_x))"
   ]
  },
  {
   "cell_type": "code",
   "execution_count": 132,
   "metadata": {},
   "outputs": [],
   "source": [
    "i, j = 0, 0\n",
    "for x_start, x_end in zip(bins_x[:-1], bins_x[1:]):\n",
    "    i = 0\n",
    "    for y_start, y_end in zip(bins_y[:-1], bins_y[1:]):    \n",
    "        #hat adata_sp.obs immer x, y Koord? Sonst mit get_cells_location Funktion\n",
    "        df = adata_sp.obs[[\"x\", \"y\"]]\n",
    "        df = df[\n",
    "        (df[\"x\"] >= x_start)\n",
    "        & (df[\"x\"] < x_end)\n",
    "        & (df[\"y\"] >= y_start)\n",
    "        & (df[\"y\"] < y_end)\n",
    "        ]\n",
    "\n",
    "        if len(df) < min_total_cells:\n",
    "            gridfield_metric[n_bins_y-1-i,j] = np.nan\n",
    "            i += 1\n",
    "            continue  \n",
    "\n",
    "        sp_local = exp_sp.loc[df.index,:] \n",
    "        sp_local[key] = adata_sp.obs.loc[df.index,:][key]\n",
    "\n",
    "        n_cells_per_ct = sp_local[key].value_counts()\n",
    "        eligible_ct = n_cells_per_ct.loc[n_cells_per_ct > min_n_cells_per_ct].index.tolist()\n",
    "\n",
    "        sp_local = sp_local.loc[sp_local[key].isin(eligible_ct),:]\n",
    "        sum_sp_local = np.sum(np.sum(sp_local.iloc[:,:-1]))\n",
    "\n",
    "        adata_sc_local = adata_sc[adata_sc.obs[key].isin(eligible_ct), :]\n",
    "        sc_X = adata_sc_local.X.toarray()\n",
    "        sc_local = pd.DataFrame(sc_X, columns = intersect_genes)\n",
    "        sc_local.index = adata_sc_local.obs.index\n",
    "        sc_local[key] = adata_sc_local.obs[key]\n",
    "        sum_sc_local = np.sum(np.sum(sc_local.iloc[:,:-1]))\n",
    "\n",
    "        if sum_sp_local != 0:\n",
    "            mean_celltype_sp_normalized=(sp_local.groupby(key).mean().dropna()/sum_sp_local)*(n_intersect_genes)**2     #why still e.g. Meis2 in df? (dropna)\n",
    "        else: \n",
    "            mean_celltype_sp_normalized=0\n",
    "\n",
    "        if sum_sc_local != 0:\n",
    "            mean_celltype_sc_normalized=(sc_local.groupby(key).mean().dropna()/sum_sc_local)*(n_intersect_genes)**2\n",
    "        else: \n",
    "            mean_celltype_sc_normalized=0\n",
    "\n",
    "        mean_celltype_sp_normalized=mean_celltype_sp_normalized.to_numpy()\n",
    "        pairwise_diff_sp = mean_celltype_sp_normalized[:,:,np.newaxis] - mean_celltype_sp_normalized[:,np.newaxis,:]\n",
    "\n",
    "        mean_celltype_sc_normalized=mean_celltype_sc_normalized.to_numpy()\n",
    "        pairwise_diff_sc = mean_celltype_sc_normalized[:,:,np.newaxis] - mean_celltype_sc_normalized[:,np.newaxis,:]\n",
    "\n",
    "        delta = np.sum(np.abs(pairwise_diff_sp-pairwise_diff_sc))\n",
    "        gridfield_metric[n_bins_y-1-i,j]  = 1-delta/(2*np.sum(np.abs(pairwise_diff_sc)))\n",
    "        i+=1\n",
    "    j+=1     "
   ]
  },
  {
   "cell_type": "code",
   "execution_count": 133,
   "metadata": {},
   "outputs": [
    {
     "data": {
      "text/plain": [
       "array([[1., 0.]])"
      ]
     },
     "execution_count": 133,
     "metadata": {},
     "output_type": "execute_result"
    }
   ],
   "source": [
    "gridfield_metric"
   ]
  },
  {
   "cell_type": "code",
   "execution_count": null,
   "metadata": {},
   "outputs": [],
   "source": [
    "adata_exp0 = ad.read_h5ad('C:/Users/mdichgan/Documents/Helmholtz/send_to_Jakob/spatial/counts_CPc_exp0_BA28.h5ad')\n",
    "adata_Yao = ad.read_h5ad(\n",
    "    'C:/Users/mdichgan/Documents/Helmholtz/send_to_Jakob/sc/Yao_150kcells_subsample_with_annotations_sparse_subset.h5ad')"
   ]
  },
  {
   "cell_type": "code",
   "execution_count": null,
   "metadata": {},
   "outputs": [],
   "source": [
    "adata_Yao.obs[\"celltype\"] = adata_Yao.obs[\"label\"]\n",
    "adata_exp0.layers[\"raw\"] = adata_exp0.X\n",
    "adata_Yao.layers[\"raw\"] = adata_Yao.X\n",
    "\n",
    "# sc.pp.normalize_total(adata_exp0)\n",
    "# sc.pp.normalize_total(adata_Yao)\n",
    "adata_exp0.layers[\"lognorm\"] = adata_exp0.X\n",
    "adata_Yao.layers[\"lognorm\"] = adata_Yao.X"
   ]
  },
  {
   "cell_type": "code",
   "execution_count": null,
   "metadata": {},
   "outputs": [],
   "source": [
    "#adata_sp has no x,y coordinates, temporary random:\n",
    "adata_exp0.obs[\"x\"] = np.random.uniform(0,200,23282)\n",
    "adata_exp0.obs[\"y\"] = np.random.uniform(0,100,23282)"
   ]
  },
  {
   "cell_type": "code",
   "execution_count": null,
   "metadata": {},
   "outputs": [],
   "source": [
    "#Testen mit adata_exp0 und adata_Yao\n",
    "np.random.seed(0)\n",
    "sample_cells = np.random.choice([True, False], adata_Yao.n_obs, p=[0.4,0.6])\n",
    "sample_genes = np.random.choice([True,False], adata_Yao.n_vars, p = [0.01,0.99])"
   ]
  },
  {
   "cell_type": "code",
   "execution_count": null,
   "metadata": {},
   "outputs": [],
   "source": [
    "adata_test = adata_Yao[sample_cells,sample_genes]\n",
    "\n",
    "adata_sp, adata_sc = adata_test, adata_test\n",
    "bins_x, bins_y = list(range(0,201,40)),list(range(0,101,50))\n",
    "layer = \"lognorm\"\n",
    "key = \"celltype\""
   ]
  },
  {
   "cell_type": "code",
   "execution_count": null,
   "metadata": {},
   "outputs": [],
   "source": [
    "#adata_sp has no x,y coordinates, temporary random:\n",
    "adata_sp.obs[\"x\"] = np.random.uniform(0,200,9921)\n",
    "adata_sp.obs[\"y\"] = np.random.uniform(0,100,9921)"
   ]
  }
 ],
 "metadata": {
  "kernelspec": {
   "display_name": "txsim_env",
   "language": "python",
   "name": "python3"
  },
  "language_info": {
   "codemirror_mode": {
    "name": "ipython",
    "version": 3
   },
   "file_extension": ".py",
   "mimetype": "text/x-python",
   "name": "python",
   "nbconvert_exporter": "python",
   "pygments_lexer": "ipython3",
   "version": "3.11.3"
  },
  "orig_nbformat": 4
 },
 "nbformat": 4,
 "nbformat_minor": 2
}
