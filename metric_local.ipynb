{
 "cells": [
  {
   "cell_type": "code",
   "execution_count": 109,
   "metadata": {},
   "outputs": [],
   "source": [
    "import scanpy as sc\n",
    "import numpy as np\n",
    "import pandas as pd\n",
    "from anndata import AnnData\n",
    "import matplotlib as mpl\n",
    "import matplotlib.pyplot as plt\n",
    "from tifffile import imread"
   ]
  },
  {
   "cell_type": "code",
   "execution_count": 126,
   "metadata": {},
   "outputs": [
    {
     "data": {
      "text/plain": [
       "AnnData object with n_obs × n_vars = 23282 × 284\n",
       "    obs: 'cell_id', 'ct_majority', 'ct_majority_cert', 'celltype', 'n_counts', 'n_genes', 'area'\n",
       "    var: 'n_counts', 'n_cells'\n",
       "    uns: 'log1p', 'pct_noise', 'spots'\n",
       "    layers: 'lognorm', 'norm', 'raw', 'raw_counts'"
      ]
     },
     "execution_count": 126,
     "metadata": {},
     "output_type": "execute_result"
    }
   ],
   "source": [
    "import anndata\n",
    "adata_exp0 = anndata.read_h5ad('C:/Users/mdichgan/Documents/Helmholtz/send_to_Jakob/spatial/counts_CPc_exp0_BA28.h5ad')\n",
    "adata_exp0"
   ]
  },
  {
   "cell_type": "code",
   "execution_count": 130,
   "metadata": {},
   "outputs": [],
   "source": [
    "def negative_marker_mask(adata_sp: AnnData, key: str='celltype'):\n",
    "    # Set threshold parameters\n",
    "    min_number_cells=10 # minimum number of cells belonging to a cluster to consider it in the analysis\n",
    "    max_ratio_cells=0.005 # maximum ratio of cells expressing a marker to call it a negative marker gene-ct pair\n",
    "    \n",
    "    #toarray Schritt notwendig?\n",
    "\n",
    "    # Filter cell types by minimum number of cells\n",
    "    celltype_count_sp = adata_sp.obs[key].value_counts()\n",
    "    ct_filter = (celltype_count_sp >= min_number_cells)\n",
    "    celltypes = celltype_count_sp.loc[ct_filter].index.tolist()\n",
    "\n",
    "    #too few celltypes notwendig?\n",
    "\n",
    "    # Filter cells to eligible cell types\n",
    "    adata_sp = adata_sp[adata_sp.obs[key].isin(celltypes)]\n",
    "\n",
    "    # Get ratio of positive cells per cell type\n",
    "    pos_exp_sp = pd.DataFrame(adata_sp.X > 0,columns=adata_sp.var_names)           #oder mit .layers[\"raw\"], wieso?\n",
    "    pos_exp_sp['celltype'] = list(adata_sp.obs[key])\n",
    "    ratio_celltype_sp = pos_exp_sp.groupby('celltype').mean()\n",
    "    # Get gene-cell type pairs with negative marker expression\n",
    "    neg_marker_mask = np.array(ratio_celltype_sp < max_ratio_cells)      #oder muss man mit ratio_celltype_sp? wenn ja, wieso?\n",
    "    genes = adata_sp.var_names\n",
    "    \n",
    "    neg_marker_mask = pd.DataFrame(neg_marker_mask, columns = genes, index = ratio_celltype_sp.index)\n",
    "    neg_marker_dict = {celltype: [] for celltype in celltypes}\n",
    "\n",
    "    for celltype, row in neg_marker_mask.iterrows():\n",
    "        for gene in genes:\n",
    "            if row[gene]:\n",
    "                neg_marker_dict[celltype].append(gene)\n",
    "\n",
    "    return neg_marker_dict\n"
   ]
  },
  {
   "cell_type": "code",
   "execution_count": 131,
   "metadata": {},
   "outputs": [],
   "source": [
    "#test negative_marker_mask\n",
    "dict_exp0 = negative_marker_mask(adata_exp0, key='celltype')"
   ]
  },
  {
   "cell_type": "code",
   "execution_count": 127,
   "metadata": {},
   "outputs": [],
   "source": [
    "def get_boolean_column(spots: pd.DataFrame, adata_sp: AnnData\n",
    "      ):\n",
    "\n",
    "    \"\"\"add column in_correct_celltype.\n",
    "\n",
    "       in_correct_celltype is TRUE, if gene is in_correct_celltype, else FALSE. \n",
    "\n",
    "       Parameters\n",
    "       ----------\n",
    "       spots : str\n",
    "            path to csv-file containing spots-information with columns: gene, x, y, celltype\n",
    "       \n",
    "       Returns\n",
    "       ----------\n",
    "       pandas DataFrame\n",
    "\n",
    "    \"\"\"\n",
    "\n",
    "    df = spots\n",
    "   #  df = pd.read_csv(spots)\n",
    "    neg_marker_dict = negative_marker_mask(adata_sp)\n",
    "\n",
    "   #  df[\"in_correct_celltype\"] = False\n",
    "\n",
    "    list_of_keys = list(neg_marker_dict.keys())\n",
    "\n",
    "    df = df.loc[df[\"celltype\"].isin(list_of_keys)]\n",
    "\n",
    "    for n in range(df.shape[0]):\n",
    "        if df.iloc[n]['gene'] in neg_marker_dict[(df.iloc[n]['celltype'])]:\n",
    "            df['in_correct_celltype'].iloc[n] = True\n",
    "\n",
    "   #  oder mit list comprehension:  for ct in celltypes:\n",
    "   #  df.loc[(df[\"gene\"].isin(negative_markers[ct])) & (df[\"celltype\"] == ct)]        \n",
    "    \n",
    "   #  df = df.assign(in_correct_celltype= np.random.choice([True,False], len(df.index)))\n",
    "    return df"
   ]
  },
  {
   "cell_type": "code",
   "execution_count": null,
   "metadata": {},
   "outputs": [],
   "source": [
    "#test get_boolean_column\n",
    "spots = pd.read_csv('C:/Users/mdichgan/Documents/Helmholtz/test/spots.csv')\n",
    "df = get_boolean_column(spots)\n",
    "print(df)\n",
    "print(df['x'].min(), df['x'].max(), df['y'].min(), df['y'].max())\n",
    "x_min, x_max, y_min, y_max = df['x'].min(), df['x'].max(), df['y'].min(), df['y'].max()\n"
   ]
  },
  {
   "cell_type": "code",
   "execution_count": 132,
   "metadata": {},
   "outputs": [],
   "source": [
    "#test get_boolean_column\n",
    "df_exp0 = get_boolean_column(adata_exp0.uns['spots'],adata_sp=adata_exp0)\n",
    "df_exp0.head()\n",
    "print(df_exp0['x'].min(), df_exp0['x'].max(), df_exp0['y'].min(), df_exp0['y'].max())\n"
   ]
  },
  {
   "cell_type": "code",
   "execution_count": null,
   "metadata": {},
   "outputs": [],
   "source": [
    "def plot_spots(x_min: int, x_max: int, y_min: int, y_max: int, spots: pd.DataFrame, image: str):\n",
    "    \"\"\"plot gene spots\n",
    "     \n",
    "       spot is red if entry in 'in_correct_celltype' is FALSE, else blue\n",
    "\n",
    "       Parameters\n",
    "       ----------\n",
    "       x_min: int, x_max: int, y_min: int, y_max: int \n",
    "            crop coordinates\n",
    "       spots: str\n",
    "            path to csv file containing spots-information with columns: gene, x, y, celltype, in_correct_celltype\n",
    "       image: str\n",
    "            path to tif file containing image of dapi stained cell-nuclei\n",
    "    \"\"\"\n",
    "    s_factor = 0.6\n",
    "    \n",
    "    fig, ax = plt.subplots()\n",
    "#   df = get_boolean_column(spots)\n",
    "    \n",
    "    x = imread(image)\n",
    " \n",
    "    #x = x[int(x_min):int(x_max),int(y_min):int(y_max)] funktioniert nicht\n",
    "    \n",
    "    plot = ax.imshow(x,cmap = \"binary_r\", origin = 'lower')\n",
    "    \n",
    "    ax.scatter(\n",
    "        df['x'],df['y'],\n",
    "        s = [s_factor*1 if v else s_factor*5 for v in df[\"in_correct_celltype\"]],\n",
    "        color = [\"cyan\" if v else \"red\" for v in df[\"in_correct_celltype\"]],\n",
    "    )\n",
    "    \n",
    "    ax.axis([x_min, x_max, y_min, y_max ])\n",
    "    fig.colorbar(plot, ax = ax)"
   ]
  },
  {
   "cell_type": "code",
   "execution_count": null,
   "metadata": {},
   "outputs": [],
   "source": [
    "#test plot_spots\n",
    "plot_spots(\n",
    "    x_min, x_max, y_min, y_max, \n",
    "    df, \n",
    "    'C:/Users/mdichgan/Documents/Helmholtz/test/raw_image.tif'\n",
    "    )"
   ]
  },
  {
   "cell_type": "code",
   "execution_count": 122,
   "metadata": {},
   "outputs": [],
   "source": [
    "def wrong_spot_density(spots: pd.DataFrame #, x_min: int, x_max: int, y_min: int, y_max: int\n",
    "                       ,bins, #smooth: float\n",
    "                       ):\n",
    "    # bins mehrere Optionen (int, zwei arrays etc.) -> wie?\n",
    "    \n",
    "#      binsint or array_like or [int, int] or [array, array], optional\n",
    "# The bin specification:\n",
    "\n",
    "# If int, the number of bins for the two dimensions (nx=ny=bins).\n",
    "\n",
    "# If array_like, the bin edges for the two dimensions (x_edges=y_edges=bins).\n",
    "\n",
    "# If [int, int], the number of bins in each dimension (nx, ny = bins).\n",
    "\n",
    "# If [array, array], the bin edges in each dimension (x_edges, y_edges = bins).\n",
    "\n",
    "# A combination [int, array] or [array, int], where int is the number of bins and array is the bin edges.\n",
    "\n",
    "   \n",
    "\n",
    "    true_spots = spots.loc[spots['in_correct_celltype'] == True]\n",
    "    x_t = true_spots['x']\n",
    "    y_t = true_spots['y']\n",
    "\n",
    "    H_t, xedges, yedges = np.histogram2d(x_t, y_t, bins = bins)\n",
    "    # Histogram does not follow Cartesian convention (see Notes),\n",
    "    # therefore transpose H for visualization purposes.\n",
    "    H_t = H_t.T\n",
    "\n",
    "    false_spots = spots.loc[spots['in_correct_celltype'] == False]\n",
    "    x_f = false_spots['x']\n",
    "    y_f = false_spots['y']\n",
    "\n",
    "    H_f, xedges, yedges = np.histogram2d(x_f, y_f, bins = bins)\n",
    "    # Histogram does not follow Cartesian convention (see Notes),\n",
    "    # therefore transpose H for visualization purposes.\n",
    "    H_f = H_f.T\n",
    "\n",
    "    H = H_f/(H_f + H_t)\n",
    "\n",
    "    fig = plt.figure()\n",
    "    ax = fig.add_subplot(title='false spots density')\n",
    "    plot = plt.imshow(H, interpolation='nearest', origin='lower',\n",
    "            extent=[xedges[0], xedges[-1], yedges[0], yedges[-1]])\n",
    "    fig.colorbar(plot)\n"
   ]
  },
  {
   "cell_type": "code",
   "execution_count": 125,
   "metadata": {},
   "outputs": [
    {
     "name": "stderr",
     "output_type": "stream",
     "text": [
      "C:\\Users\\mdichgan\\AppData\\Local\\Temp\\ipykernel_16912\\4213165090.py:25: RuntimeWarning: invalid value encountered in divide\n",
      "  H = H_f/(H_f + H_t)\n"
     ]
    },
    {
     "data": {
      "image/png": "[encoded data removed]",
      "text/plain": [
       "<Figure size 640x480 with 2 Axes>"
      ]
     },
     "metadata": {},
     "output_type": "display_data"
    }
   ],
   "source": [
    "wrong_spot_density(spots=df,bins=[10,10])\n",
    "\n",
    "# wrong_spot_density(spots=df_exp0,bins=[50,50])         wieso funktioniert es hier nicht? Wieso colorbar bis -0.1!?\n",
    "\n"
   ]
  }
 ],
 "metadata": {
  "kernelspec": {
   "display_name": "txsim",
   "language": "python",
   "name": "python3"
  },
  "language_info": {
   "codemirror_mode": {
    "name": "ipython",
    "version": 3
   },
   "file_extension": ".py",
   "mimetype": "text/x-python",
   "name": "python",
   "nbconvert_exporter": "python",
   "pygments_lexer": "ipython3",
   "version": "3.9.16"
  },
  "orig_nbformat": 4
 },
 "nbformat": 4,
 "nbformat_minor": 2
}
