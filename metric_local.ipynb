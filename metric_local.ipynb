{
 "cells": [
  {
   "cell_type": "code",
   "execution_count": null,
   "metadata": {},
   "outputs": [],
   "source": [
    "import scanpy as sc\n",
    "import numpy as np\n",
    "import pandas as pd\n",
    "from anndata import AnnData\n",
    "import matplotlib as mpl\n",
    "import matplotlib.pyplot as plt\n",
    "from tifffile import imread"
   ]
  },
  {
   "cell_type": "code",
   "execution_count": null,
   "metadata": {},
   "outputs": [],
   "source": [
    "def get_boolean_column(spots: str):\n",
    "    \"\"\"add column in_correct_celltype.\n",
    "\n",
    "       in_correct_celltype is TRUE, if gene is in_correct_celltype, else FALSE. \n",
    "\n",
    "       Parameters\n",
    "       ----------\n",
    "       spots : str\n",
    "            path to csv-file containing spots-information with columns: gene, x, y, celltype\n",
    "       \n",
    "       Returns\n",
    "       ----------\n",
    "       pandas DataFrame\n",
    "\n",
    "    \"\"\"\n",
    "    df = pd.read_csv(spots)\n",
    "    df_2 = df.assign(in_correct_celltype= np.random.choice([\"TRUE\",\"FALSE\"], len(df.index)))\n",
    "    return df_2"
   ]
  },
  {
   "cell_type": "code",
   "execution_count": null,
   "metadata": {},
   "outputs": [],
   "source": [
    "#test get_boolean_column\n",
    "df = get_boolean_column('C:/Users/mdichgan/Documents/Helmholtz/test/spots.csv')\n",
    "print(df)\n",
    "print(df['x'].min(), df['x'].max(), df['y'].min(), df['y'].max())\n",
    "x_min, x_max, y_min, y_max = df['x'].min(), df['x'].max(), df['y'].min(), df['y'].max()\n"
   ]
  },
  {
   "cell_type": "code",
   "execution_count": null,
   "metadata": {},
   "outputs": [],
   "source": [
    "def plot_spots(x_min: int, x_max: int, y_min: int, y_max: int, spots: str, image: str):\n",
    "    \"\"\"plot gene spots\n",
    "     \n",
    "       spot is red if entry in 'in_correct_celltype' is FALSE, else blue\n",
    "\n",
    "       Parameters\n",
    "       ----------\n",
    "       x_min: int, x_max: int, y_min: int, y_max: int \n",
    "            crop coordinates\n",
    "       spots: str\n",
    "            path to csv file containing spots-information with columns: gene, x, y, celltype, in_correct_celltype\n",
    "       image: str\n",
    "            path to tif file containing image of dapi stained cell-nuclei\n",
    "    \"\"\"\n",
    "    fig, ax = plt.subplots(figsize=(5,2.7), layout='constrained')\n",
    "    df = get_boolean_column(spots)\n",
    "    x = imread(image)\n",
    "    ax.imshow(x) \n",
    "    ax.scatter(df.loc[df['in_correct_celltype']=='FALSE', 'x'], df.loc[df['in_correct_celltype']=='FALSE', 'y'], s = 30, color = 'red', marker ='x')\n",
    "    ax.scatter(df.loc[df['in_correct_celltype']=='TRUE', 'x'], df.loc[df['in_correct_celltype']=='TRUE', 'y'], s = 10, color = 'blue')\n",
    "    ax.axis([x_min,x_max],[y_min,y_max])\n",
    " "
   ]
  },
  {
   "cell_type": "code",
   "execution_count": null,
   "metadata": {},
   "outputs": [],
   "source": [
    "#test plot_spots\n",
    "plot_spots(x_min, x_max, y_min, y_max, 'C:/Users/mdichgan/Documents/Helmholtz/test/spots.csv', 'C:/Users/mdichgan/Documents/Helmholtz/test/raw_image.tif')\n",
    "#TODO: fix 'TypeError: axis() takes from 1 to 2 positional arguments but 3 were given'"
   ]
  },
  {
   "cell_type": "code",
   "execution_count": null,
   "metadata": {},
   "outputs": [],
   "source": [
    "def wrong_spot_density(x_min: int, x_max: int, y_min: int, y_max: int, nr_of_pix: int, smooth: float):\n",
    "    pass"
   ]
  }
 ],
 "metadata": {
  "kernelspec": {
   "display_name": "txsim",
   "language": "python",
   "name": "python3"
  },
  "language_info": {
   "codemirror_mode": {
    "name": "ipython",
    "version": 3
   },
   "file_extension": ".py",
   "mimetype": "text/x-python",
   "name": "python",
   "nbconvert_exporter": "python",
   "pygments_lexer": "ipython3",
   "version": "3.9.16"
  },
  "orig_nbformat": 4
 },
 "nbformat": 4,
 "nbformat_minor": 2
}
