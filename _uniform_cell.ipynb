{
 "cells": [
  {
   "cell_type": "code",
   "execution_count": 1,
   "metadata": {},
   "outputs": [],
   "source": [
    "import anndata as ad\n",
    "from anndata import AnnData\n",
    "import numpy as np\n",
    "from skimage.morphology import convex_hull_image \n",
    "import matplotlib.pyplot as plt\n",
    "from scipy.optimize import linear_sum_assignment\n",
    "from scipy.spatial.distance import cdist\n",
    "import ot"
   ]
  },
  {
   "cell_type": "code",
   "execution_count": 2,
   "metadata": {},
   "outputs": [],
   "source": [
    "adata_exp0 = ad.read_h5ad('C:/Users/mdichgan/Documents/Helmholtz/send_to_Jakob/spatial/counts_CPc_exp0_BA28.h5ad')\n",
    "adata_Yao = ad.read_h5ad(\n",
    "    'C:/Users/mdichgan/Documents/Helmholtz/send_to_Jakob/sc/Yao_150kcells_subsample_with_annotations_sparse_subset.h5ad')"
   ]
  },
  {
   "cell_type": "code",
   "execution_count": 179,
   "metadata": {},
   "outputs": [
    {
     "data": {
      "text/plain": [
       "1539.221174004193"
      ]
     },
     "execution_count": 179,
     "metadata": {},
     "output_type": "execute_result"
    }
   ],
   "source": [
    "#linear sum assignment approach\n",
    "#spot distribution:\n",
    "adata_sp = adata_exp0\n",
    "df = adata_sp.uns[\"spots\"]\n",
    "unique_cell_ids = adata_sp.obs[\"cell_id\"]\n",
    "adata_sp.obs[\"uniform_cell\"] = np.nan\n",
    "\n",
    "spots = df.loc[df[\"cell\"] == 1855].copy()\n",
    "spots[\"x\"], spots[\"y\"] = [spots[\"x\"].round().astype(int), spots[\"y\"].round().astype(int)]      \n",
    "[x_min, x_max, y_min, y_max] = [spots[\"x\"].min(),spots[\"x\"].max(),spots[\"y\"].min(),spots[\"y\"].max()]\n",
    "spots[\"x\"], spots[\"y\"] = spots[\"x\"]-x_min, spots[\"y\"]-y_min\n",
    "\n",
    "\n",
    "seg_mask = np.zeros((x_max-x_min+1,y_max-y_min+1))\n",
    "seg_mask[spots[\"x\"].values.tolist(), spots[\"y\"].values.tolist()] = 1       #?spot mir Koord. (x,y) wird geplottet bei (y,x)\n",
    "cell = convex_hull_image(seg_mask)  \n",
    "\n",
    "spot_distr = np.histogram2d(spots[\"x\"], spots[\"y\"], [x_max-x_min+1,y_max-y_min+1])[0]\n",
    "\n",
    "n_spots = len(spots[\"x\"])\n",
    "n_pixs = np.sum(cell)\n",
    "\n",
    "a = spot_distr[cell].reshape(-1,1)\n",
    "b = (np.ones(n_pixs)*n_spots/n_pixs).reshape(-1,1)\n",
    "\n",
    "indices = cell.nonzero()\n",
    "coords = np.transpose(indices)\n",
    "eucl_dist = cdist(coords,coords)\n",
    "distr_diff = cdist(a,b)\n",
    "\n",
    "work = eucl_dist + distr_diff                                                                   \n",
    "row_ind, col_ind = linear_sum_assignment(work)\n",
    "work[row_ind, col_ind].sum()\n"
   ]
  },
  {
   "cell_type": "code",
   "execution_count": 171,
   "metadata": {},
   "outputs": [
    {
     "data": {
      "text/plain": [
       "32523.57416142557"
      ]
     },
     "execution_count": 171,
     "metadata": {},
     "output_type": "execute_result"
    }
   ],
   "source": [
    "#ot dauert länger als linear sum assignment\n",
    "\n",
    "#spot distribution:\n",
    "adata_sp = adata_exp0\n",
    "df = adata_sp.uns[\"spots\"]\n",
    "unique_cell_ids = adata_sp.obs[\"cell_id\"]\n",
    "adata_sp.obs[\"uniform_cell\"] = np.nan\n",
    "\n",
    "spots = df.loc[df[\"cell\"] == 1855].copy()\n",
    "spots[\"x\"], spots[\"y\"] = [spots[\"x\"].round().astype(int), spots[\"y\"].round().astype(int)]      \n",
    "[x_min, x_max, y_min, y_max] = [spots[\"x\"].min(),spots[\"x\"].max(),spots[\"y\"].min(),spots[\"y\"].max()]\n",
    "spots[\"x\"], spots[\"y\"] = spots[\"x\"]-x_min, spots[\"y\"]-y_min\n",
    "\n",
    "\n",
    "seg_mask = np.zeros((x_max-x_min+1,y_max-y_min+1))\n",
    "seg_mask[spots[\"x\"].values.tolist(), spots[\"y\"].values.tolist()] = 1       #?spot mir Koord. (x,y) wird geplottet bei (y,x)\n",
    "cell = convex_hull_image(seg_mask)  \n",
    "\n",
    "spot_distr = np.histogram2d(spots[\"x\"], spots[\"y\"], [x_max-x_min+1,y_max-y_min+1])[0]\n",
    "\n",
    "n_spots = len(spots[\"x\"])\n",
    "n_pixs = np.sum(cell)\n",
    "\n",
    "a = spot_distr[cell].reshape(-1,1).squeeze()\n",
    "b = np.ones(n_pixs)*n_spots/n_pixs\n",
    "\n",
    "indices = cell.nonzero()\n",
    "coords = np.transpose(indices)\n",
    "M = ot.dist(coords,coords)\n",
    "cost = ot.emd2(a,b,M)\n",
    "cost"
   ]
  },
  {
   "cell_type": "code",
   "execution_count": null,
   "metadata": {},
   "outputs": [],
   "source": [
    "r = np.zeros((3,3))\n",
    "r[[1,2],[0,2]] = 1\n",
    "t = convex_hull_image(r)\n",
    "plt.imshow(t)\n",
    "r"
   ]
  },
  {
   "cell_type": "code",
   "execution_count": 3,
   "metadata": {},
   "outputs": [
    {
     "data": {
      "text/plain": [
       "View of AnnData object with n_obs × n_vars = 668 × 284\n",
       "    obs: 'cell_id', 'ct_majority', 'ct_majority_cert', 'celltype', 'n_counts', 'n_genes', 'area'\n",
       "    var: 'n_counts', 'n_cells'\n",
       "    uns: 'log1p', 'pct_noise', 'spots'\n",
       "    layers: 'lognorm', 'norm', 'raw', 'raw_counts'"
      ]
     },
     "execution_count": 3,
     "metadata": {},
     "output_type": "execute_result"
    }
   ],
   "source": [
    "test_unif_dots = adata_exp0[(adata_exp0.obs.n_counts >= 180) & (adata_exp0.obs.n_counts<=200)]\n",
    "test_unif_dots"
   ]
  },
  {
   "cell_type": "code",
   "execution_count": 5,
   "metadata": {},
   "outputs": [],
   "source": [
    "def _uniform_cell(adata_sp: AnnData):\n",
    "    \n",
    "    df = adata_sp.uns[\"spots\"]\n",
    "    unique_cell_ids = adata_sp.obs[\"cell_id\"].unique()\n",
    "    adata_sp.obs[\"uniform_cell\"] = np.nan\n",
    "\n",
    "    for i in unique_cell_ids:\n",
    "        spots = df.loc[df[\"cell\"] == i].copy()\n",
    "        spots[\"x\"], spots[\"y\"] = [spots[\"x\"].round().astype(int), spots[\"y\"].round().astype(int)]      \n",
    "        [x_min, x_max, y_min, y_max] = [spots[\"x\"].min(),spots[\"x\"].max(),spots[\"y\"].min(),spots[\"y\"].max()]\n",
    "        spots[\"x\"], spots[\"y\"] = spots[\"x\"]-x_min, spots[\"y\"]-y_min\n",
    "\n",
    "        seg_mask = np.zeros((x_max-x_min+1,y_max-y_min+1))\n",
    "        seg_mask[spots[\"x\"].values.tolist(), spots[\"y\"].values.tolist()] = 1     #?spot mir Koord. (x,y) wird geplottet bei (y,x)\n",
    "        cell = convex_hull_image(seg_mask)\n",
    "\n",
    "        # Count the number of spots in each quadrat\n",
    "        n_quadrats_x, n_quadrats_y = x_max-x_min+1, y_max-y_min+1  # Define the number of quadrats in each dimension\n",
    "        quadrat_counts = np.histogram2d(spots[\"x\"], spots[\"y\"], bins=[n_quadrats_x, n_quadrats_y])[0]\n",
    "\n",
    "        # Flatten the quadrat counts for the Chi-squared test\n",
    "        observed_counts = quadrat_counts[cell]\n",
    "        total_spots = len(spots)\n",
    "        n_pixs = np.sum(cell)\n",
    "        mean_pix = total_spots / n_pixs\n",
    "        expected_counts = np.full_like(observed_counts, mean_pix)\n",
    "\n",
    "        # Calculate the Chi-squared statistic\n",
    "        chi2_statistic = np.sum((observed_counts - expected_counts)**2 / expected_counts)\n",
    "\n",
    "        #delta peak: all spots in one pixel\n",
    "        chi2_delta = (n_pixs-1)*mean_pix + (total_spots-mean_pix)**2/mean_pix       #richtig so?\n",
    "\n",
    "        # Calculate a uniformness measure based on the Chi-squared statistic\n",
    "        adata_sp.obs.loc[adata_sp.obs[\"cell_id\"]==i,\"uniform_cell\"] = 1 - chi2_statistic / chi2_delta  \n",
    "\n"
   ]
  },
  {
   "cell_type": "code",
   "execution_count": 6,
   "metadata": {},
   "outputs": [
    {
     "name": "stderr",
     "output_type": "stream",
     "text": [
      "C:\\Users\\mdichgan\\AppData\\Local\\Temp\\ipykernel_1108\\2437157341.py:5: ImplicitModificationWarning: Trying to modify attribute `.obs` of view, initializing view as actual.\n",
      "  adata_sp.obs[\"uniform_cell\"] = np.nan\n"
     ]
    }
   ],
   "source": [
    "_uniform_cell(test_unif_dots) #still to slow?"
   ]
  },
  {
   "cell_type": "code",
   "execution_count": 7,
   "metadata": {},
   "outputs": [
    {
     "data": {
      "text/html": [
       "<div>\n",
       "<style scoped>\n",
       "    .dataframe tbody tr th:only-of-type {\n",
       "        vertical-align: middle;\n",
       "    }\n",
       "\n",
       "    .dataframe tbody tr th {\n",
       "        vertical-align: top;\n",
       "    }\n",
       "\n",
       "    .dataframe thead th {\n",
       "        text-align: right;\n",
       "    }\n",
       "</style>\n",
       "<table border=\"1\" class=\"dataframe\">\n",
       "  <thead>\n",
       "    <tr style=\"text-align: right;\">\n",
       "      <th></th>\n",
       "      <th>cell_id</th>\n",
       "      <th>ct_majority</th>\n",
       "      <th>ct_majority_cert</th>\n",
       "      <th>celltype</th>\n",
       "      <th>n_counts</th>\n",
       "      <th>n_genes</th>\n",
       "      <th>area</th>\n",
       "      <th>uniform_cell</th>\n",
       "    </tr>\n",
       "  </thead>\n",
       "  <tbody>\n",
       "    <tr>\n",
       "      <th>Cell_3172</th>\n",
       "      <td>12007</td>\n",
       "      <td>L2_3 IT</td>\n",
       "      <td>1.000000</td>\n",
       "      <td>L2_3 IT</td>\n",
       "      <td>200.0</td>\n",
       "      <td>69</td>\n",
       "      <td>1265.0</td>\n",
       "      <td>0.995597</td>\n",
       "    </tr>\n",
       "    <tr>\n",
       "      <th>Cell_10210</th>\n",
       "      <td>1656</td>\n",
       "      <td>Astro</td>\n",
       "      <td>0.961749</td>\n",
       "      <td>Astro</td>\n",
       "      <td>183.0</td>\n",
       "      <td>49</td>\n",
       "      <td>1438.0</td>\n",
       "      <td>0.994182</td>\n",
       "    </tr>\n",
       "  </tbody>\n",
       "</table>\n",
       "</div>"
      ],
      "text/plain": [
       "            cell_id ct_majority  ct_majority_cert celltype  n_counts  n_genes  \\\n",
       "Cell_3172     12007     L2_3 IT          1.000000  L2_3 IT     200.0       69   \n",
       "Cell_10210     1656       Astro          0.961749    Astro     183.0       49   \n",
       "\n",
       "              area  uniform_cell  \n",
       "Cell_3172   1265.0      0.995597  \n",
       "Cell_10210  1438.0      0.994182  "
      ]
     },
     "execution_count": 7,
     "metadata": {},
     "output_type": "execute_result"
    }
   ],
   "source": [
    "min_unif, max_unif = test_unif_dots.obs[\"uniform_cell\"].min(), test_unif_dots.obs[\"uniform_cell\"].max()\n",
    "test_unif_dots.obs.loc[(test_unif_dots.obs[\"uniform_cell\"]== min_unif) | (test_unif_dots.obs[\"uniform_cell\"]== max_unif)]"
   ]
  },
  {
   "cell_type": "code",
   "execution_count": 236,
   "metadata": {},
   "outputs": [
    {
     "data": {
      "text/plain": [
       "<matplotlib.collections.PathCollection at 0x29ff0db8d50>"
      ]
     },
     "execution_count": 236,
     "metadata": {},
     "output_type": "execute_result"
    },
    {
     "data": {
      "image/png": "[encoded data removed]",
      "text/plain": [
       "<Figure size 640x480 with 1 Axes>"
      ]
     },
     "metadata": {},
     "output_type": "display_data"
    }
   ],
   "source": [
    "#compare uniform_cell score with plots\n",
    "\n",
    "adata_sp = adata_exp0\n",
    "df = adata_sp.uns[\"spots\"]\n",
    "unique_cell_ids = adata_sp.obs[\"cell_id\"]\n",
    "adata_sp.obs[\"uniform_cell\"] = np.nan\n",
    "\n",
    "spots = df.loc[df[\"cell\"] == 1656].copy()\n",
    "spots[\"x\"], spots[\"y\"] = [spots[\"x\"].round().astype(int), spots[\"y\"].round().astype(int)]      \n",
    "[x_min, x_max, y_min, y_max] = [spots[\"x\"].min(),spots[\"x\"].max(),spots[\"y\"].min(),spots[\"y\"].max()]\n",
    "spots[\"x\"], spots[\"y\"] = spots[\"x\"]-x_min, spots[\"y\"]-y_min\n",
    "\n",
    "\n",
    "seg_mask = np.zeros((x_max-x_min+1,y_max-y_min+1))\n",
    "seg_mask[spots[\"x\"].values.tolist(), spots[\"y\"].values.tolist()] = 1       #?spot mir Koord. (x,y) wird geplottet bei (y,x)\n",
    "cell = convex_hull_image(seg_mask)        \n",
    "\n",
    "plt.imshow(cell)\n",
    "plt.scatter(spots[\"y\"], spots[\"x\"], color='red')\n"
   ]
  }
 ],
 "metadata": {
  "kernelspec": {
   "display_name": "txsim_env",
   "language": "python",
   "name": "python3"
  },
  "language_info": {
   "codemirror_mode": {
    "name": "ipython",
    "version": 3
   },
   "file_extension": ".py",
   "mimetype": "text/x-python",
   "name": "python",
   "nbconvert_exporter": "python",
   "pygments_lexer": "ipython3",
   "version": "3.11.3"
  },
  "orig_nbformat": 4
 },
 "nbformat": 4,
 "nbformat_minor": 2
}
